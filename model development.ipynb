{
  "cells": [
    {
      "cell_type": "markdown",
      "metadata": {
        "id": "3xj1ALJTuawV"
      },
      "source": [
        "[Keras OCR](https://keras.io/examples/vision/captcha_ocr/)"
      ]
    },
    {
      "cell_type": "code",
      "execution_count": null,
      "metadata": {
        "colab": {
          "base_uri": "https://localhost:8080/",
          "height": 584
        },
        "id": "LirWMxuDfQ2R",
        "outputId": "d70de9e5-ce28-4ec7-d444-84d26080d57a"
      },
      "outputs": [
        {
          "name": "stdout",
          "output_type": "stream",
          "text": [
            "Collecting tf2onnx\n",
            "  Downloading tf2onnx-1.16.1-py3-none-any.whl.metadata (1.3 kB)\n",
            "Requirement already satisfied: numpy>=1.14.1 in /usr/local/lib/python3.10/dist-packages (from tf2onnx) (1.26.4)\n",
            "Requirement already satisfied: onnx>=1.4.1 in /usr/local/lib/python3.10/dist-packages (from tf2onnx) (1.17.0)\n",
            "Requirement already satisfied: requests in /usr/local/lib/python3.10/dist-packages (from tf2onnx) (2.32.3)\n",
            "Requirement already satisfied: six in /usr/local/lib/python3.10/dist-packages (from tf2onnx) (1.16.0)\n",
            "Requirement already satisfied: flatbuffers>=1.12 in /usr/local/lib/python3.10/dist-packages (from tf2onnx) (24.3.25)\n",
            "Collecting protobuf~=3.20 (from tf2onnx)\n",
            "  Downloading protobuf-3.20.3-cp310-cp310-manylinux_2_12_x86_64.manylinux2010_x86_64.whl.metadata (679 bytes)\n",
            "Requirement already satisfied: charset-normalizer<4,>=2 in /usr/local/lib/python3.10/dist-packages (from requests->tf2onnx) (3.4.0)\n",
            "Requirement already satisfied: idna<4,>=2.5 in /usr/local/lib/python3.10/dist-packages (from requests->tf2onnx) (3.10)\n",
            "Requirement already satisfied: urllib3<3,>=1.21.1 in /usr/local/lib/python3.10/dist-packages (from requests->tf2onnx) (2.2.3)\n",
            "Requirement already satisfied: certifi>=2017.4.17 in /usr/local/lib/python3.10/dist-packages (from requests->tf2onnx) (2024.8.30)\n",
            "Downloading tf2onnx-1.16.1-py3-none-any.whl (455 kB)\n",
            "\u001b[2K   \u001b[90m━━━━━━━━━━━━━━━━━━━━━━━━━━━━━━━━━━━━━━━━\u001b[0m \u001b[32m455.8/455.8 kB\u001b[0m \u001b[31m6.6 MB/s\u001b[0m eta \u001b[36m0:00:00\u001b[0m\n",
            "\u001b[?25hDownloading protobuf-3.20.3-cp310-cp310-manylinux_2_12_x86_64.manylinux2010_x86_64.whl (1.1 MB)\n",
            "\u001b[2K   \u001b[90m━━━━━━━━━━━━━━━━━━━━━━━━━━━━━━━━━━━━━━━━\u001b[0m \u001b[32m1.1/1.1 MB\u001b[0m \u001b[31m28.5 MB/s\u001b[0m eta \u001b[36m0:00:00\u001b[0m\n",
            "\u001b[?25hInstalling collected packages: protobuf, tf2onnx\n",
            "  Attempting uninstall: protobuf\n",
            "    Found existing installation: protobuf 4.25.5\n",
            "    Uninstalling protobuf-4.25.5:\n",
            "      Successfully uninstalled protobuf-4.25.5\n",
            "\u001b[31mERROR: pip's dependency resolver does not currently take into account all the packages that are installed. This behaviour is the source of the following dependency conflicts.\n",
            "grpcio-status 1.62.3 requires protobuf>=4.21.6, but you have protobuf 3.20.3 which is incompatible.\n",
            "tensorflow 2.17.1 requires keras>=3.2.0, but you have keras 2.13.1 which is incompatible.\u001b[0m\u001b[31m\n",
            "\u001b[0mSuccessfully installed protobuf-3.20.3 tf2onnx-1.16.1\n"
          ]
        },
        {
          "data": {
            "application/vnd.colab-display-data+json": {
              "id": "2446ce1a80ce4ebf85f57e12958a3379",
              "pip_warning": {
                "packages": [
                  "google"
                ]
              }
            }
          },
          "metadata": {},
          "output_type": "display_data"
        }
      ],
      "source": [
        "!pip install tf2onnx\n",
        "!pip install onnxruntime"
      ]
    },
    {
      "cell_type": "code",
      "execution_count": 5,
      "metadata": {
        "id": "NxQlahrrugzq"
      },
      "outputs": [],
      "source": [
        "import os\n",
        "import numpy as np\n",
        "import matplotlib.pyplot as plt\n",
        "\n",
        "from pathlib import Path\n",
        "from collections import Counter\n",
        "\n",
        "import tensorflow as tf\n",
        "from tensorflow import keras\n",
        "from tensorflow.keras import layers\n"
      ]
    },
    {
      "cell_type": "code",
      "execution_count": null,
      "metadata": {
        "colab": {
          "base_uri": "https://localhost:8080/"
        },
        "id": "lI1c-JGVkvF2",
        "outputId": "19d50acb-7bdb-41e6-bf17-4312f752c774"
      },
      "outputs": [
        {
          "name": "stdout",
          "output_type": "stream",
          "text": [
            "Mounted at /content/drive\n"
          ]
        }
      ],
      "source": [
        "from google.colab import drive\n",
        "drive.mount('/content/drive')"
      ]
    },
    {
      "cell_type": "code",
      "execution_count": null,
      "metadata": {
        "id": "cDiGq5nY165L"
      },
      "outputs": [],
      "source": [
        "# !curl -LO /content/drive/MyDrive/OCR_Dates_Dataset.zip\n",
        "!unzip -qq drive/MyDrive/OCR_Dates_Dataset.zip"
      ]
    },
    {
      "cell_type": "code",
      "execution_count": null,
      "metadata": {
        "colab": {
          "base_uri": "https://localhost:8080/"
        },
        "collapsed": true,
        "id": "whbZqGDQzBnF",
        "outputId": "a62ba77e-85a5-41cc-b85b-d81edfd806bc"
      },
      "outputs": [
        {
          "data": {
            "text/plain": [
              "['/content/OCR_Dates/0.jpg',\n",
              " '/content/OCR_Dates/1.jpg',\n",
              " '/content/OCR_Dates/10.jpg',\n",
              " '/content/OCR_Dates/100.jpg',\n",
              " '/content/OCR_Dates/1000.jpg',\n",
              " '/content/OCR_Dates/10000.jpg',\n",
              " '/content/OCR_Dates/10001.jpg',\n",
              " '/content/OCR_Dates/10002.jpg',\n",
              " '/content/OCR_Dates/10003.jpg',\n",
              " '/content/OCR_Dates/10004.jpg',\n",
              " '/content/OCR_Dates/10005.jpg',\n",
              " '/content/OCR_Dates/10006.jpg',\n",
              " '/content/OCR_Dates/10007.jpg',\n",
              " '/content/OCR_Dates/10008.jpg',\n",
              " '/content/OCR_Dates/10009.jpg',\n",
              " '/content/OCR_Dates/1001.jpg',\n",
              " '/content/OCR_Dates/10010.jpg',\n",
              " '/content/OCR_Dates/10011.jpg',\n",
              " '/content/OCR_Dates/10012.jpg',\n",
              " '/content/OCR_Dates/10013.jpg',\n",
              " '/content/OCR_Dates/10014.jpg',\n",
              " '/content/OCR_Dates/10015.jpg',\n",
              " '/content/OCR_Dates/10016.jpg',\n",
              " '/content/OCR_Dates/10017.jpg',\n",
              " '/content/OCR_Dates/10018.jpg',\n",
              " '/content/OCR_Dates/10019.jpg',\n",
              " '/content/OCR_Dates/1002.jpg',\n",
              " '/content/OCR_Dates/10020.jpg',\n",
              " '/content/OCR_Dates/10021.jpg',\n",
              " '/content/OCR_Dates/10022.jpg',\n",
              " '/content/OCR_Dates/10023.jpg',\n",
              " '/content/OCR_Dates/10024.jpg',\n",
              " '/content/OCR_Dates/10025.jpg',\n",
              " '/content/OCR_Dates/10026.jpg',\n",
              " '/content/OCR_Dates/10027.jpg',\n",
              " '/content/OCR_Dates/10028.jpg',\n",
              " '/content/OCR_Dates/10029.jpg',\n",
              " '/content/OCR_Dates/1003.jpg',\n",
              " '/content/OCR_Dates/10030.jpg',\n",
              " '/content/OCR_Dates/10031.jpg',\n",
              " '/content/OCR_Dates/10032.jpg',\n",
              " '/content/OCR_Dates/10033.jpg',\n",
              " '/content/OCR_Dates/10034.jpg',\n",
              " '/content/OCR_Dates/10035.jpg',\n",
              " '/content/OCR_Dates/10036.jpg',\n",
              " '/content/OCR_Dates/10037.jpg',\n",
              " '/content/OCR_Dates/10038.jpg',\n",
              " '/content/OCR_Dates/10039.jpg',\n",
              " '/content/OCR_Dates/1004.jpg',\n",
              " '/content/OCR_Dates/10040.jpg',\n",
              " '/content/OCR_Dates/10041.jpg',\n",
              " '/content/OCR_Dates/10042.jpg',\n",
              " '/content/OCR_Dates/10043.jpg',\n",
              " '/content/OCR_Dates/10044.jpg',\n",
              " '/content/OCR_Dates/10045.jpg',\n",
              " '/content/OCR_Dates/10046.jpg',\n",
              " '/content/OCR_Dates/10047.jpg',\n",
              " '/content/OCR_Dates/10048.jpg',\n",
              " '/content/OCR_Dates/10049.jpg',\n",
              " '/content/OCR_Dates/1005.jpg',\n",
              " '/content/OCR_Dates/10050.jpg',\n",
              " '/content/OCR_Dates/10051.jpg',\n",
              " '/content/OCR_Dates/10052.jpg',\n",
              " '/content/OCR_Dates/10053.jpg',\n",
              " '/content/OCR_Dates/10054.jpg',\n",
              " '/content/OCR_Dates/10055.jpg',\n",
              " '/content/OCR_Dates/10056.jpg',\n",
              " '/content/OCR_Dates/10057.jpg',\n",
              " '/content/OCR_Dates/10058.jpg',\n",
              " '/content/OCR_Dates/10059.jpg',\n",
              " '/content/OCR_Dates/1006.jpg',\n",
              " '/content/OCR_Dates/10060.jpg',\n",
              " '/content/OCR_Dates/10061.jpg',\n",
              " '/content/OCR_Dates/10062.jpg',\n",
              " '/content/OCR_Dates/10063.jpg',\n",
              " '/content/OCR_Dates/10064.jpg',\n",
              " '/content/OCR_Dates/10065.jpg',\n",
              " '/content/OCR_Dates/10066.jpg',\n",
              " '/content/OCR_Dates/10067.jpg',\n",
              " '/content/OCR_Dates/10068.jpg',\n",
              " '/content/OCR_Dates/10069.jpg',\n",
              " '/content/OCR_Dates/1007.jpg',\n",
              " '/content/OCR_Dates/10070.jpg',\n",
              " '/content/OCR_Dates/10071.jpg',\n",
              " '/content/OCR_Dates/10072.jpg',\n",
              " '/content/OCR_Dates/10073.jpg',\n",
              " '/content/OCR_Dates/10074.jpg',\n",
              " '/content/OCR_Dates/10075.jpg',\n",
              " '/content/OCR_Dates/10076.jpg',\n",
              " '/content/OCR_Dates/10077.jpg',\n",
              " '/content/OCR_Dates/10078.jpg',\n",
              " '/content/OCR_Dates/10079.jpg',\n",
              " '/content/OCR_Dates/1008.jpg',\n",
              " '/content/OCR_Dates/10080.jpg',\n",
              " '/content/OCR_Dates/10081.jpg',\n",
              " '/content/OCR_Dates/10082.jpg',\n",
              " '/content/OCR_Dates/10083.jpg',\n",
              " '/content/OCR_Dates/10084.jpg',\n",
              " '/content/OCR_Dates/10085.jpg',\n",
              " '/content/OCR_Dates/10086.jpg',\n",
              " '/content/OCR_Dates/10087.jpg',\n",
              " '/content/OCR_Dates/10088.jpg',\n",
              " '/content/OCR_Dates/10089.jpg',\n",
              " '/content/OCR_Dates/1009.jpg',\n",
              " '/content/OCR_Dates/10090.jpg',\n",
              " '/content/OCR_Dates/10091.jpg',\n",
              " '/content/OCR_Dates/10092.jpg',\n",
              " '/content/OCR_Dates/10093.jpg',\n",
              " '/content/OCR_Dates/10094.jpg',\n",
              " '/content/OCR_Dates/10095.jpg',\n",
              " '/content/OCR_Dates/10096.jpg',\n",
              " '/content/OCR_Dates/10097.jpg',\n",
              " '/content/OCR_Dates/10098.jpg',\n",
              " '/content/OCR_Dates/10099.jpg',\n",
              " '/content/OCR_Dates/101.jpg',\n",
              " '/content/OCR_Dates/1010.jpg',\n",
              " '/content/OCR_Dates/10100.jpg',\n",
              " '/content/OCR_Dates/10101.jpg',\n",
              " '/content/OCR_Dates/10102.jpg',\n",
              " '/content/OCR_Dates/10103.jpg',\n",
              " '/content/OCR_Dates/10104.jpg',\n",
              " '/content/OCR_Dates/10105.jpg',\n",
              " '/content/OCR_Dates/10106.jpg',\n",
              " '/content/OCR_Dates/10107.jpg',\n",
              " '/content/OCR_Dates/10108.jpg',\n",
              " '/content/OCR_Dates/10109.jpg',\n",
              " '/content/OCR_Dates/1011.jpg',\n",
              " '/content/OCR_Dates/10110.jpg',\n",
              " '/content/OCR_Dates/10111.jpg',\n",
              " '/content/OCR_Dates/10112.jpg',\n",
              " '/content/OCR_Dates/10113.jpg',\n",
              " '/content/OCR_Dates/10114.jpg',\n",
              " '/content/OCR_Dates/10115.jpg',\n",
              " '/content/OCR_Dates/10116.jpg',\n",
              " '/content/OCR_Dates/10117.jpg',\n",
              " '/content/OCR_Dates/10118.jpg',\n",
              " '/content/OCR_Dates/10119.jpg',\n",
              " '/content/OCR_Dates/1012.jpg',\n",
              " '/content/OCR_Dates/10120.jpg',\n",
              " '/content/OCR_Dates/10121.jpg',\n",
              " '/content/OCR_Dates/10122.jpg',\n",
              " '/content/OCR_Dates/10123.jpg',\n",
              " '/content/OCR_Dates/10124.jpg',\n",
              " '/content/OCR_Dates/10125.jpg',\n",
              " '/content/OCR_Dates/10126.jpg',\n",
              " '/content/OCR_Dates/10127.jpg',\n",
              " '/content/OCR_Dates/10128.jpg',\n",
              " '/content/OCR_Dates/10129.jpg',\n",
              " '/content/OCR_Dates/1013.jpg',\n",
              " '/content/OCR_Dates/10130.jpg',\n",
              " '/content/OCR_Dates/10131.jpg',\n",
              " '/content/OCR_Dates/10132.jpg',\n",
              " '/content/OCR_Dates/10133.jpg',\n",
              " '/content/OCR_Dates/10134.jpg',\n",
              " '/content/OCR_Dates/10135.jpg',\n",
              " '/content/OCR_Dates/10136.jpg',\n",
              " '/content/OCR_Dates/10137.jpg',\n",
              " '/content/OCR_Dates/10138.jpg',\n",
              " '/content/OCR_Dates/10139.jpg',\n",
              " '/content/OCR_Dates/1014.jpg',\n",
              " '/content/OCR_Dates/10140.jpg',\n",
              " '/content/OCR_Dates/10141.jpg',\n",
              " '/content/OCR_Dates/10142.jpg',\n",
              " '/content/OCR_Dates/10143.jpg',\n",
              " '/content/OCR_Dates/10144.jpg',\n",
              " '/content/OCR_Dates/10145.jpg',\n",
              " '/content/OCR_Dates/10146.jpg',\n",
              " '/content/OCR_Dates/10147.jpg',\n",
              " '/content/OCR_Dates/10148.jpg',\n",
              " '/content/OCR_Dates/10149.jpg',\n",
              " '/content/OCR_Dates/1015.jpg',\n",
              " '/content/OCR_Dates/10150.jpg',\n",
              " '/content/OCR_Dates/10151.jpg',\n",
              " '/content/OCR_Dates/10152.jpg',\n",
              " '/content/OCR_Dates/10153.jpg',\n",
              " '/content/OCR_Dates/10154.jpg',\n",
              " '/content/OCR_Dates/10155.jpg',\n",
              " '/content/OCR_Dates/10156.jpg',\n",
              " '/content/OCR_Dates/10157.jpg',\n",
              " '/content/OCR_Dates/10158.jpg',\n",
              " '/content/OCR_Dates/10159.jpg',\n",
              " '/content/OCR_Dates/1016.jpg',\n",
              " '/content/OCR_Dates/10160.jpg',\n",
              " '/content/OCR_Dates/10161.jpg',\n",
              " '/content/OCR_Dates/10162.jpg',\n",
              " '/content/OCR_Dates/10163.jpg',\n",
              " '/content/OCR_Dates/10164.jpg',\n",
              " '/content/OCR_Dates/10165.jpg',\n",
              " '/content/OCR_Dates/10166.jpg',\n",
              " '/content/OCR_Dates/10167.jpg',\n",
              " '/content/OCR_Dates/10168.jpg',\n",
              " '/content/OCR_Dates/10169.jpg',\n",
              " '/content/OCR_Dates/1017.jpg',\n",
              " '/content/OCR_Dates/10170.jpg',\n",
              " '/content/OCR_Dates/10171.jpg',\n",
              " '/content/OCR_Dates/10172.jpg',\n",
              " '/content/OCR_Dates/10173.jpg',\n",
              " '/content/OCR_Dates/10174.jpg',\n",
              " '/content/OCR_Dates/10175.jpg',\n",
              " '/content/OCR_Dates/10176.jpg',\n",
              " '/content/OCR_Dates/10177.jpg',\n",
              " '/content/OCR_Dates/10178.jpg',\n",
              " '/content/OCR_Dates/10179.jpg',\n",
              " '/content/OCR_Dates/1018.jpg',\n",
              " '/content/OCR_Dates/10180.jpg',\n",
              " '/content/OCR_Dates/10181.jpg',\n",
              " '/content/OCR_Dates/10182.jpg',\n",
              " '/content/OCR_Dates/10183.jpg',\n",
              " '/content/OCR_Dates/10184.jpg',\n",
              " '/content/OCR_Dates/10185.jpg',\n",
              " '/content/OCR_Dates/10186.jpg',\n",
              " '/content/OCR_Dates/10187.jpg',\n",
              " '/content/OCR_Dates/10188.jpg',\n",
              " '/content/OCR_Dates/10189.jpg',\n",
              " '/content/OCR_Dates/1019.jpg',\n",
              " '/content/OCR_Dates/10190.jpg',\n",
              " '/content/OCR_Dates/10191.jpg',\n",
              " '/content/OCR_Dates/10192.jpg',\n",
              " '/content/OCR_Dates/10193.jpg',\n",
              " '/content/OCR_Dates/10194.jpg',\n",
              " '/content/OCR_Dates/10195.jpg',\n",
              " '/content/OCR_Dates/10196.jpg',\n",
              " '/content/OCR_Dates/10197.jpg',\n",
              " '/content/OCR_Dates/10198.jpg',\n",
              " '/content/OCR_Dates/10199.jpg',\n",
              " '/content/OCR_Dates/102.jpg',\n",
              " '/content/OCR_Dates/1020.jpg',\n",
              " '/content/OCR_Dates/10200.jpg',\n",
              " '/content/OCR_Dates/10201.jpg',\n",
              " '/content/OCR_Dates/10202.jpg',\n",
              " '/content/OCR_Dates/10203.jpg',\n",
              " '/content/OCR_Dates/10204.jpg',\n",
              " '/content/OCR_Dates/10205.jpg',\n",
              " '/content/OCR_Dates/10206.jpg',\n",
              " '/content/OCR_Dates/10207.jpg',\n",
              " '/content/OCR_Dates/10208.jpg',\n",
              " '/content/OCR_Dates/10209.jpg',\n",
              " '/content/OCR_Dates/1021.jpg',\n",
              " '/content/OCR_Dates/10210.jpg',\n",
              " '/content/OCR_Dates/10211.jpg',\n",
              " '/content/OCR_Dates/10212.jpg',\n",
              " '/content/OCR_Dates/10213.jpg',\n",
              " '/content/OCR_Dates/10214.jpg',\n",
              " '/content/OCR_Dates/10215.jpg',\n",
              " '/content/OCR_Dates/10216.jpg',\n",
              " '/content/OCR_Dates/10217.jpg',\n",
              " '/content/OCR_Dates/10218.jpg',\n",
              " '/content/OCR_Dates/10219.jpg',\n",
              " '/content/OCR_Dates/1022.jpg',\n",
              " '/content/OCR_Dates/10220.jpg',\n",
              " '/content/OCR_Dates/10221.jpg',\n",
              " '/content/OCR_Dates/10222.jpg',\n",
              " '/content/OCR_Dates/10223.jpg',\n",
              " '/content/OCR_Dates/10224.jpg',\n",
              " '/content/OCR_Dates/10225.jpg',\n",
              " '/content/OCR_Dates/10226.jpg',\n",
              " '/content/OCR_Dates/10227.jpg',\n",
              " '/content/OCR_Dates/10228.jpg',\n",
              " '/content/OCR_Dates/10229.jpg',\n",
              " '/content/OCR_Dates/1023.jpg',\n",
              " '/content/OCR_Dates/10230.jpg',\n",
              " '/content/OCR_Dates/10231.jpg',\n",
              " '/content/OCR_Dates/10232.jpg',\n",
              " '/content/OCR_Dates/10233.jpg',\n",
              " '/content/OCR_Dates/10234.jpg',\n",
              " '/content/OCR_Dates/10235.jpg',\n",
              " '/content/OCR_Dates/10236.jpg',\n",
              " '/content/OCR_Dates/10237.jpg',\n",
              " '/content/OCR_Dates/10238.jpg',\n",
              " '/content/OCR_Dates/10239.jpg',\n",
              " '/content/OCR_Dates/1024.jpg',\n",
              " '/content/OCR_Dates/10240.jpg',\n",
              " '/content/OCR_Dates/10241.jpg',\n",
              " '/content/OCR_Dates/10242.jpg',\n",
              " '/content/OCR_Dates/10243.jpg',\n",
              " '/content/OCR_Dates/10244.jpg',\n",
              " '/content/OCR_Dates/10245.jpg',\n",
              " '/content/OCR_Dates/10246.jpg',\n",
              " '/content/OCR_Dates/10247.jpg',\n",
              " '/content/OCR_Dates/10248.jpg',\n",
              " '/content/OCR_Dates/10249.jpg',\n",
              " '/content/OCR_Dates/1025.jpg',\n",
              " '/content/OCR_Dates/10250.jpg',\n",
              " '/content/OCR_Dates/10251.jpg',\n",
              " '/content/OCR_Dates/10252.jpg',\n",
              " '/content/OCR_Dates/10253.jpg',\n",
              " '/content/OCR_Dates/10254.jpg',\n",
              " '/content/OCR_Dates/10255.jpg',\n",
              " '/content/OCR_Dates/10256.jpg',\n",
              " '/content/OCR_Dates/10257.jpg',\n",
              " '/content/OCR_Dates/10258.jpg',\n",
              " '/content/OCR_Dates/10259.jpg',\n",
              " '/content/OCR_Dates/1026.jpg',\n",
              " '/content/OCR_Dates/10260.jpg',\n",
              " '/content/OCR_Dates/10261.jpg',\n",
              " '/content/OCR_Dates/10262.jpg',\n",
              " '/content/OCR_Dates/10263.jpg',\n",
              " '/content/OCR_Dates/10264.jpg',\n",
              " '/content/OCR_Dates/10265.jpg',\n",
              " '/content/OCR_Dates/10266.jpg',\n",
              " '/content/OCR_Dates/10267.jpg',\n",
              " '/content/OCR_Dates/10268.jpg',\n",
              " '/content/OCR_Dates/10269.jpg',\n",
              " '/content/OCR_Dates/1027.jpg',\n",
              " '/content/OCR_Dates/10270.jpg',\n",
              " '/content/OCR_Dates/10271.jpg',\n",
              " '/content/OCR_Dates/10272.jpg',\n",
              " '/content/OCR_Dates/10273.jpg',\n",
              " '/content/OCR_Dates/10274.jpg',\n",
              " '/content/OCR_Dates/10275.jpg',\n",
              " '/content/OCR_Dates/10276.jpg',\n",
              " '/content/OCR_Dates/10277.jpg',\n",
              " '/content/OCR_Dates/10278.jpg',\n",
              " '/content/OCR_Dates/10279.jpg',\n",
              " '/content/OCR_Dates/1028.jpg',\n",
              " '/content/OCR_Dates/10280.jpg',\n",
              " '/content/OCR_Dates/10281.jpg',\n",
              " '/content/OCR_Dates/10282.jpg',\n",
              " '/content/OCR_Dates/10283.jpg',\n",
              " '/content/OCR_Dates/10284.jpg',\n",
              " '/content/OCR_Dates/10285.jpg',\n",
              " '/content/OCR_Dates/10286.jpg',\n",
              " '/content/OCR_Dates/10287.jpg',\n",
              " '/content/OCR_Dates/10288.jpg',\n",
              " '/content/OCR_Dates/10289.jpg',\n",
              " '/content/OCR_Dates/1029.jpg',\n",
              " '/content/OCR_Dates/10290.jpg',\n",
              " '/content/OCR_Dates/10291.jpg',\n",
              " '/content/OCR_Dates/10292.jpg',\n",
              " '/content/OCR_Dates/10293.jpg',\n",
              " '/content/OCR_Dates/10294.jpg',\n",
              " '/content/OCR_Dates/10295.jpg',\n",
              " '/content/OCR_Dates/10296.jpg',\n",
              " '/content/OCR_Dates/10297.jpg',\n",
              " '/content/OCR_Dates/10298.jpg',\n",
              " '/content/OCR_Dates/10299.jpg',\n",
              " '/content/OCR_Dates/103.jpg',\n",
              " '/content/OCR_Dates/1030.jpg',\n",
              " '/content/OCR_Dates/10300.jpg',\n",
              " '/content/OCR_Dates/10301.jpg',\n",
              " '/content/OCR_Dates/10302.jpg',\n",
              " '/content/OCR_Dates/10303.jpg',\n",
              " '/content/OCR_Dates/10304.jpg',\n",
              " '/content/OCR_Dates/10305.jpg',\n",
              " '/content/OCR_Dates/10306.jpg',\n",
              " '/content/OCR_Dates/10307.jpg',\n",
              " '/content/OCR_Dates/10308.jpg',\n",
              " '/content/OCR_Dates/10309.jpg',\n",
              " '/content/OCR_Dates/1031.jpg',\n",
              " '/content/OCR_Dates/10310.jpg',\n",
              " '/content/OCR_Dates/10311.jpg',\n",
              " '/content/OCR_Dates/10312.jpg',\n",
              " '/content/OCR_Dates/10313.jpg',\n",
              " '/content/OCR_Dates/10314.jpg',\n",
              " '/content/OCR_Dates/10315.jpg',\n",
              " '/content/OCR_Dates/10316.jpg',\n",
              " '/content/OCR_Dates/10317.jpg',\n",
              " '/content/OCR_Dates/10318.jpg',\n",
              " '/content/OCR_Dates/10319.jpg',\n",
              " '/content/OCR_Dates/1032.jpg',\n",
              " '/content/OCR_Dates/10320.jpg',\n",
              " '/content/OCR_Dates/10321.jpg',\n",
              " '/content/OCR_Dates/10322.jpg',\n",
              " '/content/OCR_Dates/10323.jpg',\n",
              " '/content/OCR_Dates/10324.jpg',\n",
              " '/content/OCR_Dates/10325.jpg',\n",
              " '/content/OCR_Dates/10326.jpg',\n",
              " '/content/OCR_Dates/10327.jpg',\n",
              " '/content/OCR_Dates/10328.jpg',\n",
              " '/content/OCR_Dates/10329.jpg',\n",
              " '/content/OCR_Dates/1033.jpg',\n",
              " '/content/OCR_Dates/10330.jpg',\n",
              " '/content/OCR_Dates/10331.jpg',\n",
              " '/content/OCR_Dates/10332.jpg',\n",
              " '/content/OCR_Dates/10333.jpg',\n",
              " '/content/OCR_Dates/10334.jpg',\n",
              " '/content/OCR_Dates/10335.jpg',\n",
              " '/content/OCR_Dates/10336.jpg',\n",
              " '/content/OCR_Dates/10337.jpg',\n",
              " '/content/OCR_Dates/10338.jpg',\n",
              " '/content/OCR_Dates/10339.jpg',\n",
              " '/content/OCR_Dates/1034.jpg',\n",
              " '/content/OCR_Dates/10340.jpg',\n",
              " '/content/OCR_Dates/10341.jpg',\n",
              " '/content/OCR_Dates/10342.jpg',\n",
              " '/content/OCR_Dates/10343.jpg',\n",
              " '/content/OCR_Dates/10344.jpg',\n",
              " '/content/OCR_Dates/10345.jpg',\n",
              " '/content/OCR_Dates/10346.jpg',\n",
              " '/content/OCR_Dates/10347.jpg',\n",
              " '/content/OCR_Dates/10348.jpg',\n",
              " '/content/OCR_Dates/10349.jpg',\n",
              " '/content/OCR_Dates/1035.jpg',\n",
              " '/content/OCR_Dates/10350.jpg',\n",
              " '/content/OCR_Dates/10351.jpg',\n",
              " '/content/OCR_Dates/10352.jpg',\n",
              " '/content/OCR_Dates/10353.jpg',\n",
              " '/content/OCR_Dates/10354.jpg',\n",
              " '/content/OCR_Dates/10355.jpg',\n",
              " '/content/OCR_Dates/10356.jpg',\n",
              " '/content/OCR_Dates/10357.jpg',\n",
              " '/content/OCR_Dates/10358.jpg',\n",
              " '/content/OCR_Dates/10359.jpg',\n",
              " '/content/OCR_Dates/1036.jpg',\n",
              " '/content/OCR_Dates/10360.jpg',\n",
              " '/content/OCR_Dates/10361.jpg',\n",
              " '/content/OCR_Dates/10362.jpg',\n",
              " '/content/OCR_Dates/10363.jpg',\n",
              " '/content/OCR_Dates/10364.jpg',\n",
              " '/content/OCR_Dates/10365.jpg',\n",
              " '/content/OCR_Dates/10366.jpg',\n",
              " '/content/OCR_Dates/10367.jpg',\n",
              " '/content/OCR_Dates/10368.jpg',\n",
              " '/content/OCR_Dates/10369.jpg',\n",
              " '/content/OCR_Dates/1037.jpg',\n",
              " '/content/OCR_Dates/10370.jpg',\n",
              " '/content/OCR_Dates/10371.jpg',\n",
              " '/content/OCR_Dates/10372.jpg',\n",
              " '/content/OCR_Dates/10373.jpg',\n",
              " '/content/OCR_Dates/10374.jpg',\n",
              " '/content/OCR_Dates/10375.jpg',\n",
              " '/content/OCR_Dates/10376.jpg',\n",
              " '/content/OCR_Dates/10377.jpg',\n",
              " '/content/OCR_Dates/10378.jpg',\n",
              " '/content/OCR_Dates/10379.jpg',\n",
              " '/content/OCR_Dates/1038.jpg',\n",
              " '/content/OCR_Dates/10380.jpg',\n",
              " '/content/OCR_Dates/10381.jpg',\n",
              " '/content/OCR_Dates/10382.jpg',\n",
              " '/content/OCR_Dates/10383.jpg',\n",
              " '/content/OCR_Dates/10384.jpg',\n",
              " '/content/OCR_Dates/10385.jpg',\n",
              " '/content/OCR_Dates/10386.jpg',\n",
              " '/content/OCR_Dates/10387.jpg',\n",
              " '/content/OCR_Dates/10388.jpg',\n",
              " '/content/OCR_Dates/10389.jpg',\n",
              " '/content/OCR_Dates/1039.jpg',\n",
              " '/content/OCR_Dates/10390.jpg',\n",
              " '/content/OCR_Dates/10391.jpg',\n",
              " '/content/OCR_Dates/10392.jpg',\n",
              " '/content/OCR_Dates/10393.jpg',\n",
              " '/content/OCR_Dates/10394.jpg',\n",
              " '/content/OCR_Dates/10395.jpg',\n",
              " '/content/OCR_Dates/10396.jpg',\n",
              " '/content/OCR_Dates/10397.jpg',\n",
              " '/content/OCR_Dates/10398.jpg',\n",
              " '/content/OCR_Dates/10399.jpg',\n",
              " '/content/OCR_Dates/104.jpg',\n",
              " '/content/OCR_Dates/1040.jpg',\n",
              " '/content/OCR_Dates/10400.jpg',\n",
              " '/content/OCR_Dates/10401.jpg',\n",
              " '/content/OCR_Dates/10402.jpg',\n",
              " '/content/OCR_Dates/10403.jpg',\n",
              " '/content/OCR_Dates/10404.jpg',\n",
              " '/content/OCR_Dates/10405.jpg',\n",
              " '/content/OCR_Dates/10406.jpg',\n",
              " '/content/OCR_Dates/10407.jpg',\n",
              " '/content/OCR_Dates/10408.jpg',\n",
              " '/content/OCR_Dates/10409.jpg',\n",
              " '/content/OCR_Dates/1041.jpg',\n",
              " '/content/OCR_Dates/10410.jpg',\n",
              " '/content/OCR_Dates/10411.jpg',\n",
              " '/content/OCR_Dates/10412.jpg',\n",
              " '/content/OCR_Dates/10413.jpg',\n",
              " '/content/OCR_Dates/10414.jpg',\n",
              " '/content/OCR_Dates/10415.jpg',\n",
              " '/content/OCR_Dates/10416.jpg',\n",
              " '/content/OCR_Dates/10417.jpg',\n",
              " '/content/OCR_Dates/10418.jpg',\n",
              " '/content/OCR_Dates/10419.jpg',\n",
              " '/content/OCR_Dates/1042.jpg',\n",
              " '/content/OCR_Dates/10420.jpg',\n",
              " '/content/OCR_Dates/10421.jpg',\n",
              " '/content/OCR_Dates/10422.jpg',\n",
              " '/content/OCR_Dates/10423.jpg',\n",
              " '/content/OCR_Dates/10424.jpg',\n",
              " '/content/OCR_Dates/10425.jpg',\n",
              " '/content/OCR_Dates/10426.jpg',\n",
              " '/content/OCR_Dates/10427.jpg',\n",
              " '/content/OCR_Dates/10428.jpg',\n",
              " '/content/OCR_Dates/10429.jpg',\n",
              " '/content/OCR_Dates/1043.jpg',\n",
              " '/content/OCR_Dates/10430.jpg',\n",
              " '/content/OCR_Dates/10431.jpg',\n",
              " '/content/OCR_Dates/10432.jpg',\n",
              " '/content/OCR_Dates/10433.jpg',\n",
              " '/content/OCR_Dates/10434.jpg',\n",
              " '/content/OCR_Dates/10435.jpg',\n",
              " '/content/OCR_Dates/10436.jpg',\n",
              " '/content/OCR_Dates/10437.jpg',\n",
              " '/content/OCR_Dates/10438.jpg',\n",
              " '/content/OCR_Dates/10439.jpg',\n",
              " '/content/OCR_Dates/1044.jpg',\n",
              " '/content/OCR_Dates/10440.jpg',\n",
              " '/content/OCR_Dates/10441.jpg',\n",
              " '/content/OCR_Dates/10442.jpg',\n",
              " '/content/OCR_Dates/10443.jpg',\n",
              " '/content/OCR_Dates/10444.jpg',\n",
              " '/content/OCR_Dates/10445.jpg',\n",
              " '/content/OCR_Dates/10446.jpg',\n",
              " '/content/OCR_Dates/10447.jpg',\n",
              " '/content/OCR_Dates/10448.jpg',\n",
              " '/content/OCR_Dates/10449.jpg',\n",
              " '/content/OCR_Dates/1045.jpg',\n",
              " '/content/OCR_Dates/10450.jpg',\n",
              " '/content/OCR_Dates/10451.jpg',\n",
              " '/content/OCR_Dates/10452.jpg',\n",
              " '/content/OCR_Dates/10453.jpg',\n",
              " '/content/OCR_Dates/10454.jpg',\n",
              " '/content/OCR_Dates/10455.jpg',\n",
              " '/content/OCR_Dates/10456.jpg',\n",
              " '/content/OCR_Dates/10457.jpg',\n",
              " '/content/OCR_Dates/10458.jpg',\n",
              " '/content/OCR_Dates/10459.jpg',\n",
              " '/content/OCR_Dates/1046.jpg',\n",
              " '/content/OCR_Dates/10460.jpg',\n",
              " '/content/OCR_Dates/10461.jpg',\n",
              " '/content/OCR_Dates/10462.jpg',\n",
              " '/content/OCR_Dates/10463.jpg',\n",
              " '/content/OCR_Dates/10464.jpg',\n",
              " '/content/OCR_Dates/10465.jpg',\n",
              " '/content/OCR_Dates/10466.jpg',\n",
              " '/content/OCR_Dates/10467.jpg',\n",
              " '/content/OCR_Dates/10468.jpg',\n",
              " '/content/OCR_Dates/10469.jpg',\n",
              " '/content/OCR_Dates/1047.jpg',\n",
              " '/content/OCR_Dates/10470.jpg',\n",
              " '/content/OCR_Dates/10471.jpg',\n",
              " '/content/OCR_Dates/10472.jpg',\n",
              " '/content/OCR_Dates/10473.jpg',\n",
              " '/content/OCR_Dates/10474.jpg',\n",
              " '/content/OCR_Dates/10475.jpg',\n",
              " '/content/OCR_Dates/10476.jpg',\n",
              " '/content/OCR_Dates/10477.jpg',\n",
              " '/content/OCR_Dates/10478.jpg',\n",
              " '/content/OCR_Dates/10479.jpg',\n",
              " '/content/OCR_Dates/1048.jpg',\n",
              " '/content/OCR_Dates/10480.jpg',\n",
              " '/content/OCR_Dates/10481.jpg',\n",
              " '/content/OCR_Dates/10482.jpg',\n",
              " '/content/OCR_Dates/10483.jpg',\n",
              " '/content/OCR_Dates/10484.jpg',\n",
              " '/content/OCR_Dates/10485.jpg',\n",
              " '/content/OCR_Dates/10486.jpg',\n",
              " '/content/OCR_Dates/10487.jpg',\n",
              " '/content/OCR_Dates/10488.jpg',\n",
              " '/content/OCR_Dates/10489.jpg',\n",
              " '/content/OCR_Dates/1049.jpg',\n",
              " '/content/OCR_Dates/10490.jpg',\n",
              " '/content/OCR_Dates/10491.jpg',\n",
              " '/content/OCR_Dates/10492.jpg',\n",
              " '/content/OCR_Dates/10493.jpg',\n",
              " '/content/OCR_Dates/10494.jpg',\n",
              " '/content/OCR_Dates/10495.jpg',\n",
              " '/content/OCR_Dates/10496.jpg',\n",
              " '/content/OCR_Dates/10497.jpg',\n",
              " '/content/OCR_Dates/10498.jpg',\n",
              " '/content/OCR_Dates/10499.jpg',\n",
              " '/content/OCR_Dates/105.jpg',\n",
              " '/content/OCR_Dates/1050.jpg',\n",
              " '/content/OCR_Dates/10500.jpg',\n",
              " '/content/OCR_Dates/10501.jpg',\n",
              " '/content/OCR_Dates/10502.jpg',\n",
              " '/content/OCR_Dates/10503.jpg',\n",
              " '/content/OCR_Dates/10504.jpg',\n",
              " '/content/OCR_Dates/10505.jpg',\n",
              " '/content/OCR_Dates/10506.jpg',\n",
              " '/content/OCR_Dates/10507.jpg',\n",
              " '/content/OCR_Dates/10508.jpg',\n",
              " '/content/OCR_Dates/10509.jpg',\n",
              " '/content/OCR_Dates/1051.jpg',\n",
              " '/content/OCR_Dates/10510.jpg',\n",
              " '/content/OCR_Dates/10511.jpg',\n",
              " '/content/OCR_Dates/10512.jpg',\n",
              " '/content/OCR_Dates/10513.jpg',\n",
              " '/content/OCR_Dates/10514.jpg',\n",
              " '/content/OCR_Dates/10515.jpg',\n",
              " '/content/OCR_Dates/10516.jpg',\n",
              " '/content/OCR_Dates/10517.jpg',\n",
              " '/content/OCR_Dates/10518.jpg',\n",
              " '/content/OCR_Dates/10519.jpg',\n",
              " '/content/OCR_Dates/1052.jpg',\n",
              " '/content/OCR_Dates/10520.jpg',\n",
              " '/content/OCR_Dates/10521.jpg',\n",
              " '/content/OCR_Dates/10522.jpg',\n",
              " '/content/OCR_Dates/10523.jpg',\n",
              " '/content/OCR_Dates/10524.jpg',\n",
              " '/content/OCR_Dates/10525.jpg',\n",
              " '/content/OCR_Dates/10526.jpg',\n",
              " '/content/OCR_Dates/10527.jpg',\n",
              " '/content/OCR_Dates/10528.jpg',\n",
              " '/content/OCR_Dates/10529.jpg',\n",
              " '/content/OCR_Dates/1053.jpg',\n",
              " '/content/OCR_Dates/10530.jpg',\n",
              " '/content/OCR_Dates/10531.jpg',\n",
              " '/content/OCR_Dates/10532.jpg',\n",
              " '/content/OCR_Dates/10533.jpg',\n",
              " '/content/OCR_Dates/10534.jpg',\n",
              " '/content/OCR_Dates/10535.jpg',\n",
              " '/content/OCR_Dates/10536.jpg',\n",
              " '/content/OCR_Dates/10537.jpg',\n",
              " '/content/OCR_Dates/10538.jpg',\n",
              " '/content/OCR_Dates/10539.jpg',\n",
              " '/content/OCR_Dates/1054.jpg',\n",
              " '/content/OCR_Dates/10540.jpg',\n",
              " '/content/OCR_Dates/10541.jpg',\n",
              " '/content/OCR_Dates/10542.jpg',\n",
              " '/content/OCR_Dates/10543.jpg',\n",
              " '/content/OCR_Dates/10544.jpg',\n",
              " '/content/OCR_Dates/10545.jpg',\n",
              " '/content/OCR_Dates/10546.jpg',\n",
              " '/content/OCR_Dates/10547.jpg',\n",
              " '/content/OCR_Dates/10548.jpg',\n",
              " '/content/OCR_Dates/10549.jpg',\n",
              " '/content/OCR_Dates/1055.jpg',\n",
              " '/content/OCR_Dates/10550.jpg',\n",
              " '/content/OCR_Dates/10551.jpg',\n",
              " '/content/OCR_Dates/10552.jpg',\n",
              " '/content/OCR_Dates/10553.jpg',\n",
              " '/content/OCR_Dates/10554.jpg',\n",
              " '/content/OCR_Dates/10555.jpg',\n",
              " '/content/OCR_Dates/10556.jpg',\n",
              " '/content/OCR_Dates/10557.jpg',\n",
              " '/content/OCR_Dates/10558.jpg',\n",
              " '/content/OCR_Dates/10559.jpg',\n",
              " '/content/OCR_Dates/1056.jpg',\n",
              " '/content/OCR_Dates/10560.jpg',\n",
              " '/content/OCR_Dates/10561.jpg',\n",
              " '/content/OCR_Dates/10562.jpg',\n",
              " '/content/OCR_Dates/10563.jpg',\n",
              " '/content/OCR_Dates/10564.jpg',\n",
              " '/content/OCR_Dates/10565.jpg',\n",
              " '/content/OCR_Dates/10566.jpg',\n",
              " '/content/OCR_Dates/10567.jpg',\n",
              " '/content/OCR_Dates/10568.jpg',\n",
              " '/content/OCR_Dates/10569.jpg',\n",
              " '/content/OCR_Dates/1057.jpg',\n",
              " '/content/OCR_Dates/10570.jpg',\n",
              " '/content/OCR_Dates/10571.jpg',\n",
              " '/content/OCR_Dates/10572.jpg',\n",
              " '/content/OCR_Dates/10573.jpg',\n",
              " '/content/OCR_Dates/10574.jpg',\n",
              " '/content/OCR_Dates/10575.jpg',\n",
              " '/content/OCR_Dates/10576.jpg',\n",
              " '/content/OCR_Dates/10577.jpg',\n",
              " '/content/OCR_Dates/10578.jpg',\n",
              " '/content/OCR_Dates/10579.jpg',\n",
              " '/content/OCR_Dates/1058.jpg',\n",
              " '/content/OCR_Dates/10580.jpg',\n",
              " '/content/OCR_Dates/10581.jpg',\n",
              " '/content/OCR_Dates/10582.jpg',\n",
              " '/content/OCR_Dates/10583.jpg',\n",
              " '/content/OCR_Dates/10584.jpg',\n",
              " '/content/OCR_Dates/10585.jpg',\n",
              " '/content/OCR_Dates/10586.jpg',\n",
              " '/content/OCR_Dates/10587.jpg',\n",
              " '/content/OCR_Dates/10588.jpg',\n",
              " '/content/OCR_Dates/10589.jpg',\n",
              " '/content/OCR_Dates/1059.jpg',\n",
              " '/content/OCR_Dates/10590.jpg',\n",
              " '/content/OCR_Dates/10591.jpg',\n",
              " '/content/OCR_Dates/10592.jpg',\n",
              " '/content/OCR_Dates/10593.jpg',\n",
              " '/content/OCR_Dates/10594.jpg',\n",
              " '/content/OCR_Dates/10595.jpg',\n",
              " '/content/OCR_Dates/10596.jpg',\n",
              " '/content/OCR_Dates/10597.jpg',\n",
              " '/content/OCR_Dates/10598.jpg',\n",
              " '/content/OCR_Dates/10599.jpg',\n",
              " '/content/OCR_Dates/106.jpg',\n",
              " '/content/OCR_Dates/1060.jpg',\n",
              " '/content/OCR_Dates/10600.jpg',\n",
              " '/content/OCR_Dates/10601.jpg',\n",
              " '/content/OCR_Dates/10602.jpg',\n",
              " '/content/OCR_Dates/10603.jpg',\n",
              " '/content/OCR_Dates/10604.jpg',\n",
              " '/content/OCR_Dates/10605.jpg',\n",
              " '/content/OCR_Dates/10606.jpg',\n",
              " '/content/OCR_Dates/10607.jpg',\n",
              " '/content/OCR_Dates/10608.jpg',\n",
              " '/content/OCR_Dates/10609.jpg',\n",
              " '/content/OCR_Dates/1061.jpg',\n",
              " '/content/OCR_Dates/10610.jpg',\n",
              " '/content/OCR_Dates/10611.jpg',\n",
              " '/content/OCR_Dates/10612.jpg',\n",
              " '/content/OCR_Dates/10613.jpg',\n",
              " '/content/OCR_Dates/10614.jpg',\n",
              " '/content/OCR_Dates/10615.jpg',\n",
              " '/content/OCR_Dates/10616.jpg',\n",
              " '/content/OCR_Dates/10617.jpg',\n",
              " '/content/OCR_Dates/10618.jpg',\n",
              " '/content/OCR_Dates/10619.jpg',\n",
              " '/content/OCR_Dates/1062.jpg',\n",
              " '/content/OCR_Dates/10620.jpg',\n",
              " '/content/OCR_Dates/10621.jpg',\n",
              " '/content/OCR_Dates/10622.jpg',\n",
              " '/content/OCR_Dates/10623.jpg',\n",
              " '/content/OCR_Dates/10624.jpg',\n",
              " '/content/OCR_Dates/10625.jpg',\n",
              " '/content/OCR_Dates/10626.jpg',\n",
              " '/content/OCR_Dates/10627.jpg',\n",
              " '/content/OCR_Dates/10628.jpg',\n",
              " '/content/OCR_Dates/10629.jpg',\n",
              " '/content/OCR_Dates/1063.jpg',\n",
              " '/content/OCR_Dates/10630.jpg',\n",
              " '/content/OCR_Dates/10631.jpg',\n",
              " '/content/OCR_Dates/10632.jpg',\n",
              " '/content/OCR_Dates/10633.jpg',\n",
              " '/content/OCR_Dates/10634.jpg',\n",
              " '/content/OCR_Dates/10635.jpg',\n",
              " '/content/OCR_Dates/10636.jpg',\n",
              " '/content/OCR_Dates/10637.jpg',\n",
              " '/content/OCR_Dates/10638.jpg',\n",
              " '/content/OCR_Dates/10639.jpg',\n",
              " '/content/OCR_Dates/1064.jpg',\n",
              " '/content/OCR_Dates/10640.jpg',\n",
              " '/content/OCR_Dates/10641.jpg',\n",
              " '/content/OCR_Dates/10642.jpg',\n",
              " '/content/OCR_Dates/10643.jpg',\n",
              " '/content/OCR_Dates/10644.jpg',\n",
              " '/content/OCR_Dates/10645.jpg',\n",
              " '/content/OCR_Dates/10646.jpg',\n",
              " '/content/OCR_Dates/10647.jpg',\n",
              " '/content/OCR_Dates/10648.jpg',\n",
              " '/content/OCR_Dates/10649.jpg',\n",
              " '/content/OCR_Dates/1065.jpg',\n",
              " '/content/OCR_Dates/10650.jpg',\n",
              " '/content/OCR_Dates/10651.jpg',\n",
              " '/content/OCR_Dates/10652.jpg',\n",
              " '/content/OCR_Dates/10653.jpg',\n",
              " '/content/OCR_Dates/10654.jpg',\n",
              " '/content/OCR_Dates/10655.jpg',\n",
              " '/content/OCR_Dates/10656.jpg',\n",
              " '/content/OCR_Dates/10657.jpg',\n",
              " '/content/OCR_Dates/10658.jpg',\n",
              " '/content/OCR_Dates/10659.jpg',\n",
              " '/content/OCR_Dates/1066.jpg',\n",
              " '/content/OCR_Dates/10660.jpg',\n",
              " '/content/OCR_Dates/10661.jpg',\n",
              " '/content/OCR_Dates/10662.jpg',\n",
              " '/content/OCR_Dates/10663.jpg',\n",
              " '/content/OCR_Dates/10664.jpg',\n",
              " '/content/OCR_Dates/10665.jpg',\n",
              " '/content/OCR_Dates/10666.jpg',\n",
              " '/content/OCR_Dates/10667.jpg',\n",
              " '/content/OCR_Dates/10668.jpg',\n",
              " '/content/OCR_Dates/10669.jpg',\n",
              " '/content/OCR_Dates/1067.jpg',\n",
              " '/content/OCR_Dates/10670.jpg',\n",
              " '/content/OCR_Dates/10671.jpg',\n",
              " '/content/OCR_Dates/10672.jpg',\n",
              " '/content/OCR_Dates/10673.jpg',\n",
              " '/content/OCR_Dates/10674.jpg',\n",
              " '/content/OCR_Dates/10675.jpg',\n",
              " '/content/OCR_Dates/10676.jpg',\n",
              " '/content/OCR_Dates/10677.jpg',\n",
              " '/content/OCR_Dates/10678.jpg',\n",
              " '/content/OCR_Dates/10679.jpg',\n",
              " '/content/OCR_Dates/1068.jpg',\n",
              " '/content/OCR_Dates/10680.jpg',\n",
              " '/content/OCR_Dates/10681.jpg',\n",
              " '/content/OCR_Dates/10682.jpg',\n",
              " '/content/OCR_Dates/10683.jpg',\n",
              " '/content/OCR_Dates/10684.jpg',\n",
              " '/content/OCR_Dates/10685.jpg',\n",
              " '/content/OCR_Dates/10686.jpg',\n",
              " '/content/OCR_Dates/10687.jpg',\n",
              " '/content/OCR_Dates/10688.jpg',\n",
              " '/content/OCR_Dates/10689.jpg',\n",
              " '/content/OCR_Dates/1069.jpg',\n",
              " '/content/OCR_Dates/10690.jpg',\n",
              " '/content/OCR_Dates/10691.jpg',\n",
              " '/content/OCR_Dates/10692.jpg',\n",
              " '/content/OCR_Dates/10693.jpg',\n",
              " '/content/OCR_Dates/10694.jpg',\n",
              " '/content/OCR_Dates/10695.jpg',\n",
              " '/content/OCR_Dates/10696.jpg',\n",
              " '/content/OCR_Dates/10697.jpg',\n",
              " '/content/OCR_Dates/10698.jpg',\n",
              " '/content/OCR_Dates/10699.jpg',\n",
              " '/content/OCR_Dates/107.jpg',\n",
              " '/content/OCR_Dates/1070.jpg',\n",
              " '/content/OCR_Dates/10700.jpg',\n",
              " '/content/OCR_Dates/10701.jpg',\n",
              " '/content/OCR_Dates/10702.jpg',\n",
              " '/content/OCR_Dates/10703.jpg',\n",
              " '/content/OCR_Dates/10704.jpg',\n",
              " '/content/OCR_Dates/10705.jpg',\n",
              " '/content/OCR_Dates/10706.jpg',\n",
              " '/content/OCR_Dates/10707.jpg',\n",
              " '/content/OCR_Dates/10708.jpg',\n",
              " '/content/OCR_Dates/10709.jpg',\n",
              " '/content/OCR_Dates/1071.jpg',\n",
              " '/content/OCR_Dates/10710.jpg',\n",
              " '/content/OCR_Dates/10711.jpg',\n",
              " '/content/OCR_Dates/10712.jpg',\n",
              " '/content/OCR_Dates/10713.jpg',\n",
              " '/content/OCR_Dates/10714.jpg',\n",
              " '/content/OCR_Dates/10715.jpg',\n",
              " '/content/OCR_Dates/10716.jpg',\n",
              " '/content/OCR_Dates/10717.jpg',\n",
              " '/content/OCR_Dates/10718.jpg',\n",
              " '/content/OCR_Dates/10719.jpg',\n",
              " '/content/OCR_Dates/1072.jpg',\n",
              " '/content/OCR_Dates/10720.jpg',\n",
              " '/content/OCR_Dates/10721.jpg',\n",
              " '/content/OCR_Dates/10722.jpg',\n",
              " '/content/OCR_Dates/10723.jpg',\n",
              " '/content/OCR_Dates/10724.jpg',\n",
              " '/content/OCR_Dates/10725.jpg',\n",
              " '/content/OCR_Dates/10726.jpg',\n",
              " '/content/OCR_Dates/10727.jpg',\n",
              " '/content/OCR_Dates/10728.jpg',\n",
              " '/content/OCR_Dates/10729.jpg',\n",
              " '/content/OCR_Dates/1073.jpg',\n",
              " '/content/OCR_Dates/10730.jpg',\n",
              " '/content/OCR_Dates/10731.jpg',\n",
              " '/content/OCR_Dates/10732.jpg',\n",
              " '/content/OCR_Dates/10733.jpg',\n",
              " '/content/OCR_Dates/10734.jpg',\n",
              " '/content/OCR_Dates/10735.jpg',\n",
              " '/content/OCR_Dates/10736.jpg',\n",
              " '/content/OCR_Dates/10737.jpg',\n",
              " '/content/OCR_Dates/10738.jpg',\n",
              " '/content/OCR_Dates/10739.jpg',\n",
              " '/content/OCR_Dates/1074.jpg',\n",
              " '/content/OCR_Dates/10740.jpg',\n",
              " '/content/OCR_Dates/10741.jpg',\n",
              " '/content/OCR_Dates/10742.jpg',\n",
              " '/content/OCR_Dates/10743.jpg',\n",
              " '/content/OCR_Dates/10744.jpg',\n",
              " '/content/OCR_Dates/10745.jpg',\n",
              " '/content/OCR_Dates/10746.jpg',\n",
              " '/content/OCR_Dates/10747.jpg',\n",
              " '/content/OCR_Dates/10748.jpg',\n",
              " '/content/OCR_Dates/10749.jpg',\n",
              " '/content/OCR_Dates/1075.jpg',\n",
              " '/content/OCR_Dates/10750.jpg',\n",
              " '/content/OCR_Dates/10751.jpg',\n",
              " '/content/OCR_Dates/10752.jpg',\n",
              " '/content/OCR_Dates/10753.jpg',\n",
              " '/content/OCR_Dates/10754.jpg',\n",
              " '/content/OCR_Dates/10755.jpg',\n",
              " '/content/OCR_Dates/10756.jpg',\n",
              " '/content/OCR_Dates/10757.jpg',\n",
              " '/content/OCR_Dates/10758.jpg',\n",
              " '/content/OCR_Dates/10759.jpg',\n",
              " '/content/OCR_Dates/1076.jpg',\n",
              " '/content/OCR_Dates/10760.jpg',\n",
              " '/content/OCR_Dates/10761.jpg',\n",
              " '/content/OCR_Dates/10762.jpg',\n",
              " '/content/OCR_Dates/10763.jpg',\n",
              " '/content/OCR_Dates/10764.jpg',\n",
              " '/content/OCR_Dates/10765.jpg',\n",
              " '/content/OCR_Dates/10766.jpg',\n",
              " '/content/OCR_Dates/10767.jpg',\n",
              " '/content/OCR_Dates/10768.jpg',\n",
              " '/content/OCR_Dates/10769.jpg',\n",
              " '/content/OCR_Dates/1077.jpg',\n",
              " '/content/OCR_Dates/10770.jpg',\n",
              " '/content/OCR_Dates/10771.jpg',\n",
              " '/content/OCR_Dates/10772.jpg',\n",
              " '/content/OCR_Dates/10773.jpg',\n",
              " '/content/OCR_Dates/10774.jpg',\n",
              " '/content/OCR_Dates/10775.jpg',\n",
              " '/content/OCR_Dates/10776.jpg',\n",
              " '/content/OCR_Dates/10777.jpg',\n",
              " '/content/OCR_Dates/10778.jpg',\n",
              " '/content/OCR_Dates/10779.jpg',\n",
              " '/content/OCR_Dates/1078.jpg',\n",
              " '/content/OCR_Dates/10780.jpg',\n",
              " '/content/OCR_Dates/10781.jpg',\n",
              " '/content/OCR_Dates/10782.jpg',\n",
              " '/content/OCR_Dates/10783.jpg',\n",
              " '/content/OCR_Dates/10784.jpg',\n",
              " '/content/OCR_Dates/10785.jpg',\n",
              " '/content/OCR_Dates/10786.jpg',\n",
              " '/content/OCR_Dates/10787.jpg',\n",
              " '/content/OCR_Dates/10788.jpg',\n",
              " '/content/OCR_Dates/10789.jpg',\n",
              " '/content/OCR_Dates/1079.jpg',\n",
              " '/content/OCR_Dates/10790.jpg',\n",
              " '/content/OCR_Dates/10791.jpg',\n",
              " '/content/OCR_Dates/10792.jpg',\n",
              " '/content/OCR_Dates/10793.jpg',\n",
              " '/content/OCR_Dates/10794.jpg',\n",
              " '/content/OCR_Dates/10795.jpg',\n",
              " '/content/OCR_Dates/10796.jpg',\n",
              " '/content/OCR_Dates/10797.jpg',\n",
              " '/content/OCR_Dates/10798.jpg',\n",
              " '/content/OCR_Dates/10799.jpg',\n",
              " '/content/OCR_Dates/108.jpg',\n",
              " '/content/OCR_Dates/1080.jpg',\n",
              " '/content/OCR_Dates/10800.jpg',\n",
              " '/content/OCR_Dates/10801.jpg',\n",
              " '/content/OCR_Dates/10802.jpg',\n",
              " '/content/OCR_Dates/10803.jpg',\n",
              " '/content/OCR_Dates/10804.jpg',\n",
              " '/content/OCR_Dates/10805.jpg',\n",
              " '/content/OCR_Dates/10806.jpg',\n",
              " '/content/OCR_Dates/10807.jpg',\n",
              " '/content/OCR_Dates/10808.jpg',\n",
              " '/content/OCR_Dates/10809.jpg',\n",
              " '/content/OCR_Dates/1081.jpg',\n",
              " '/content/OCR_Dates/10810.jpg',\n",
              " '/content/OCR_Dates/10811.jpg',\n",
              " '/content/OCR_Dates/10812.jpg',\n",
              " '/content/OCR_Dates/10813.jpg',\n",
              " '/content/OCR_Dates/10814.jpg',\n",
              " '/content/OCR_Dates/10815.jpg',\n",
              " '/content/OCR_Dates/10816.jpg',\n",
              " '/content/OCR_Dates/10817.jpg',\n",
              " '/content/OCR_Dates/10818.jpg',\n",
              " '/content/OCR_Dates/10819.jpg',\n",
              " '/content/OCR_Dates/1082.jpg',\n",
              " '/content/OCR_Dates/10820.jpg',\n",
              " '/content/OCR_Dates/10821.jpg',\n",
              " '/content/OCR_Dates/10822.jpg',\n",
              " '/content/OCR_Dates/10823.jpg',\n",
              " '/content/OCR_Dates/10824.jpg',\n",
              " '/content/OCR_Dates/10825.jpg',\n",
              " '/content/OCR_Dates/10826.jpg',\n",
              " '/content/OCR_Dates/10827.jpg',\n",
              " '/content/OCR_Dates/10828.jpg',\n",
              " '/content/OCR_Dates/10829.jpg',\n",
              " '/content/OCR_Dates/1083.jpg',\n",
              " '/content/OCR_Dates/10830.jpg',\n",
              " '/content/OCR_Dates/10831.jpg',\n",
              " '/content/OCR_Dates/10832.jpg',\n",
              " '/content/OCR_Dates/10833.jpg',\n",
              " '/content/OCR_Dates/10834.jpg',\n",
              " '/content/OCR_Dates/10835.jpg',\n",
              " '/content/OCR_Dates/10836.jpg',\n",
              " '/content/OCR_Dates/10837.jpg',\n",
              " '/content/OCR_Dates/10838.jpg',\n",
              " '/content/OCR_Dates/10839.jpg',\n",
              " '/content/OCR_Dates/1084.jpg',\n",
              " '/content/OCR_Dates/10840.jpg',\n",
              " '/content/OCR_Dates/10841.jpg',\n",
              " '/content/OCR_Dates/10842.jpg',\n",
              " '/content/OCR_Dates/10843.jpg',\n",
              " '/content/OCR_Dates/10844.jpg',\n",
              " '/content/OCR_Dates/10845.jpg',\n",
              " '/content/OCR_Dates/10846.jpg',\n",
              " '/content/OCR_Dates/10847.jpg',\n",
              " '/content/OCR_Dates/10848.jpg',\n",
              " '/content/OCR_Dates/10849.jpg',\n",
              " '/content/OCR_Dates/1085.jpg',\n",
              " '/content/OCR_Dates/10850.jpg',\n",
              " '/content/OCR_Dates/10851.jpg',\n",
              " '/content/OCR_Dates/10852.jpg',\n",
              " '/content/OCR_Dates/10853.jpg',\n",
              " '/content/OCR_Dates/10854.jpg',\n",
              " '/content/OCR_Dates/10855.jpg',\n",
              " '/content/OCR_Dates/10856.jpg',\n",
              " '/content/OCR_Dates/10857.jpg',\n",
              " '/content/OCR_Dates/10858.jpg',\n",
              " '/content/OCR_Dates/10859.jpg',\n",
              " '/content/OCR_Dates/1086.jpg',\n",
              " '/content/OCR_Dates/10860.jpg',\n",
              " '/content/OCR_Dates/10861.jpg',\n",
              " '/content/OCR_Dates/10862.jpg',\n",
              " '/content/OCR_Dates/10863.jpg',\n",
              " '/content/OCR_Dates/10864.jpg',\n",
              " '/content/OCR_Dates/10865.jpg',\n",
              " '/content/OCR_Dates/10866.jpg',\n",
              " '/content/OCR_Dates/10867.jpg',\n",
              " '/content/OCR_Dates/10868.jpg',\n",
              " '/content/OCR_Dates/10869.jpg',\n",
              " '/content/OCR_Dates/1087.jpg',\n",
              " '/content/OCR_Dates/10870.jpg',\n",
              " '/content/OCR_Dates/10871.jpg',\n",
              " '/content/OCR_Dates/10872.jpg',\n",
              " '/content/OCR_Dates/10873.jpg',\n",
              " '/content/OCR_Dates/10874.jpg',\n",
              " '/content/OCR_Dates/10875.jpg',\n",
              " '/content/OCR_Dates/10876.jpg',\n",
              " '/content/OCR_Dates/10877.jpg',\n",
              " '/content/OCR_Dates/10878.jpg',\n",
              " '/content/OCR_Dates/10879.jpg',\n",
              " '/content/OCR_Dates/1088.jpg',\n",
              " '/content/OCR_Dates/10880.jpg',\n",
              " '/content/OCR_Dates/10881.jpg',\n",
              " '/content/OCR_Dates/10882.jpg',\n",
              " '/content/OCR_Dates/10883.jpg',\n",
              " '/content/OCR_Dates/10884.jpg',\n",
              " '/content/OCR_Dates/10885.jpg',\n",
              " '/content/OCR_Dates/10886.jpg',\n",
              " '/content/OCR_Dates/10887.jpg',\n",
              " '/content/OCR_Dates/10888.jpg',\n",
              " '/content/OCR_Dates/10889.jpg',\n",
              " '/content/OCR_Dates/1089.jpg',\n",
              " '/content/OCR_Dates/10890.jpg',\n",
              " '/content/OCR_Dates/10891.jpg',\n",
              " '/content/OCR_Dates/10892.jpg',\n",
              " '/content/OCR_Dates/10893.jpg',\n",
              " '/content/OCR_Dates/10894.jpg',\n",
              " '/content/OCR_Dates/10895.jpg',\n",
              " '/content/OCR_Dates/10896.jpg',\n",
              " '/content/OCR_Dates/10897.jpg',\n",
              " ...]"
            ]
          },
          "execution_count": 5,
          "metadata": {},
          "output_type": "execute_result"
        }
      ],
      "source": [
        "# Path to the data directory\n",
        "data_dir = Path(\"/content/OCR_Dates\")\n",
        "# data_dir\n",
        "# Get list of all the images\n",
        "sorted(list(map(str, list(data_dir.glob(\"*.jpg\")))))\n",
        "# images"
      ]
    },
    {
      "cell_type": "code",
      "execution_count": null,
      "metadata": {
        "colab": {
          "base_uri": "https://localhost:8080/"
        },
        "collapsed": true,
        "id": "DOfa69-E0rt-",
        "outputId": "77577eb4-91cf-4774-b26d-41b9400e8ff9"
      },
      "outputs": [
        {
          "name": "stdout",
          "output_type": "stream",
          "text": [
            "['١٩٩٩/٠٧/١٥', '١٩٨٢/٠٥/٠٨', '١٩٨٦/٠٦/٠٦', '٢٠١١/١٢/٠١', '٢٠١٩/١١/٠٠', '١٩٩٤/٠٥/١٨', '١٩٧٥/٠٦/١٢', '٢٠٠٣/١٢/٠٣', '١٩٨٧/٠٨/٢٢', '٢٠١٩/٠٣/١٥']\n"
          ]
        }
      ],
      "source": [
        "label = []\n",
        "text = sorted(list(map(str, list(data_dir.glob(\"*.txt\")))))\n",
        "for file in text:\n",
        "  with open(file) as f:\n",
        "    data = f.read()\n",
        "    label.append(data)\n",
        "print(label[:10])"
      ]
    },
    {
      "cell_type": "code",
      "execution_count": null,
      "metadata": {
        "colab": {
          "base_uri": "https://localhost:8080/"
        },
        "id": "6IgOzL0Puilw",
        "outputId": "44dddcda-b409-4cfe-be1f-d1f453457de5"
      },
      "outputs": [
        {
          "name": "stdout",
          "output_type": "stream",
          "text": [
            "Number of images found:  19985\n",
            "Number of labels found:  19980\n",
            "Number of unique characters:  11\n",
            "Characters present:  ['/', '٠', '١', '٢', '٣', '٤', '٥', '٦', '٧', '٨', '٩']\n"
          ]
        }
      ],
      "source": [
        "# Path to the data directory\n",
        "data_dir = Path(\"/content/OCR_Dates\")\n",
        "\n",
        "# Get list of all the images\n",
        "images = sorted(list(map(str, list(data_dir.glob(\"*.jpg\")))))\n",
        "labels = []\n",
        "text = sorted(list(map(str, list(data_dir.glob(\"*.txt\")))))\n",
        "for file in text:\n",
        "  with open(file) as f:\n",
        "    labels.append(f.read())\n",
        "\n",
        "# labels = [img.split(os.path.sep)[-1].split(\".png\")[0] for img in images]\n",
        "characters = set(char for label in labels for char in label)\n",
        "characters = sorted(list(characters))\n",
        "\n",
        "print(\"Number of images found: \", len(images))\n",
        "print(\"Number of labels found: \", len(labels))\n",
        "print(\"Number of unique characters: \", len(characters))\n",
        "print(\"Characters present: \", characters)\n",
        "\n",
        "# Batch size for training and validation\n",
        "batch_size = 16\n",
        "\n",
        "# # Desired image dimensions\n",
        "img_width = 200\n",
        "img_height = 50\n",
        "\n",
        "# Factor by which the image is going to be downsampled\n",
        "# by the convolutional blocks. We will be using two\n",
        "# convolution blocks and each block will have\n",
        "# a pooling layer which downsample the features by a factor of 2.\n",
        "# Hence total downsampling factor would be 4.\n",
        "downsample_factor = 4\n",
        "\n",
        "# # Maximum length of any captcha in the dataset\n",
        "max_length = max([len(label) for label in labels])"
      ]
    },
    {
      "cell_type": "code",
      "execution_count": null,
      "metadata": {
        "colab": {
          "base_uri": "https://localhost:8080/"
        },
        "id": "7CUmMcX_SzeV",
        "outputId": "d7a837ba-0fc6-4dc3-959f-72b5c9fde4fb"
      },
      "outputs": [
        {
          "data": {
            "text/plain": [
              "(19985, 19980, 10)"
            ]
          },
          "execution_count": 8,
          "metadata": {},
          "output_type": "execute_result"
        }
      ],
      "source": [
        "len(images), len(text), max_length"
      ]
    },
    {
      "cell_type": "code",
      "execution_count": null,
      "metadata": {
        "id": "dAppe5VLQmpq"
      },
      "outputs": [],
      "source": [
        "for i in images:\n",
        "  extract = i.split('/')[-1].split('.')[0]\n",
        "  t = f'/content/OCR_Dates/{extract}.txt'\n",
        "  # print(t)\n",
        "  if t in text:\n",
        "    # print(t)\n",
        "    continue\n",
        "  else:\n",
        "    images.remove(i)\n"
      ]
    },
    {
      "cell_type": "code",
      "execution_count": null,
      "metadata": {
        "colab": {
          "base_uri": "https://localhost:8080/"
        },
        "id": "196g-4M5bX_0",
        "outputId": "f3feacba-3d74-474a-e5b2-c69c97d7c375"
      },
      "outputs": [
        {
          "data": {
            "text/plain": [
              "(19980, 19980)"
            ]
          },
          "execution_count": 10,
          "metadata": {},
          "output_type": "execute_result"
        }
      ],
      "source": [
        "len(images), len(text)"
      ]
    },
    {
      "cell_type": "markdown",
      "metadata": {
        "id": "FD8ywl6eyhAK"
      },
      "source": [
        "## Preprocessing"
      ]
    },
    {
      "cell_type": "markdown",
      "metadata": {
        "id": "e2IM_eYb7VLt"
      },
      "source": [
        "- StringLookup: A preprocessing layer which maps string features to integer indices.\n",
        "\n"
      ]
    },
    {
      "cell_type": "code",
      "execution_count": 20,
      "metadata": {
        "id": "tPBWiVxTDLSx"
      },
      "outputs": [],
      "source": [
        "# Define Arabic and English numerals as strings\n",
        "arabic_numerals = ['/', '٠', '١', '٢', '٣', '٤', '٥', '٦', '٧', '٨', '٩']\n",
        "english_numerals = [\"/\", \"0\", \"1\", \"2\", \"3\", \"4\", \"5\", \"6\", \"7\", \"8\", \"9\"]\n",
        "\n",
        "# Create StringLookup layer to map Arabic to indices\n",
        "char_to_num = layers.StringLookup(vocabulary=arabic_numerals, oov_token=\"\", mask_token=None)\n",
        "\n",
        "# Create a StringLookup layer with an invert option to map indices back to English numerals\n",
        "num_to_char = layers.StringLookup(vocabulary=english_numerals, invert=True, mask_token=None)"
      ]
    },
    {
      "cell_type": "code",
      "execution_count": null,
      "metadata": {
        "colab": {
          "base_uri": "https://localhost:8080/"
        },
        "id": "dEa3yPn5B4Cz",
        "outputId": "10f5ae34-7505-400b-fe1d-a86b8b08d29b"
      },
      "outputs": [
        {
          "data": {
            "text/plain": [
              "['', '/', '٠', '١', '٢', '٣', '٤', '٥', '٦', '٧', '٨', '٩']"
            ]
          },
          "execution_count": 12,
          "metadata": {},
          "output_type": "execute_result"
        }
      ],
      "source": [
        "char_to_num.get_vocabulary()"
      ]
    },
    {
      "cell_type": "code",
      "execution_count": null,
      "metadata": {
        "colab": {
          "base_uri": "https://localhost:8080/"
        },
        "id": "kkNGE6vp-lps",
        "outputId": "ad22a489-4b5f-4b97-da75-9761f62b3009"
      },
      "outputs": [
        {
          "name": "stdout",
          "output_type": "stream",
          "text": [
            "<StringLookup name=string_lookup_1, built=False>\n"
          ]
        }
      ],
      "source": [
        "print(num_to_char)"
      ]
    },
    {
      "cell_type": "code",
      "execution_count": null,
      "metadata": {
        "id": "vTjt6KqfzLyG"
      },
      "outputs": [],
      "source": [
        "def split_data(images, labels, train_size=0.9, shuffle=True):\n",
        "    # 1. Get the total size of the dataset\n",
        "    size = len(images)\n",
        "    # 2. Make an indices array and shuffle it, if required\n",
        "    indices = np.arange(size)\n",
        "    if shuffle:\n",
        "        np.random.shuffle(indices)\n",
        "    # 3. Get the size of training samples\n",
        "    train_samples = int(size * train_size)\n",
        "    # 4. Split data into training and validation sets\n",
        "    x_train, y_train = images[:train_samples], labels[:train_samples]\n",
        "    x_valid, y_valid = images[train_samples:], labels[train_samples:]\n",
        "    return x_train, x_valid, y_train, y_valid\n",
        "\n",
        "\n",
        "# Splitting data into training and validation sets\n",
        "x_train, x_valid, y_train, y_valid = split_data(np.array(images), np.array(labels))"
      ]
    },
    {
      "cell_type": "code",
      "execution_count": null,
      "metadata": {
        "id": "Gz3DPfYgvE74"
      },
      "outputs": [],
      "source": [
        "def encode_single_sample(img_path, label):\n",
        "    # 1. Read image\n",
        "    img = tf.io.read_file(img_path)\n",
        "    # 2. Decode and convert to grayscale\n",
        "    img = tf.io.decode_png(img, channels=1)\n",
        "    # 3. Convert to float32 in [0, 1] range\n",
        "    img = tf.image.convert_image_dtype(img, tf.float32)\n",
        "    # 4. Resize to the desired size\n",
        "    img = tf.image.resize(img, [img_height, img_width])\n",
        "    # 5. Transpose the image because we want the time\n",
        "    # dimension to correspond to the width of the image.\n",
        "    img = tf.transpose(img, perm=[1, 0, 2])\n",
        "    # 6. Map the characters in label to numbers\n",
        "    label = char_to_num(tf.strings.unicode_split(label, input_encoding=\"UTF-8\"))\n",
        "    # 7. Return a dict as our model is expecting two inputs\n",
        "    return {\"image\": img, \"label\": label}"
      ]
    },
    {
      "cell_type": "markdown",
      "metadata": {
        "id": "LYjCvPLy9uw_"
      },
      "source": [
        "## Create Dataset objects\n"
      ]
    },
    {
      "cell_type": "code",
      "execution_count": null,
      "metadata": {
        "id": "IL5o7S7dvFDj"
      },
      "outputs": [],
      "source": [
        "train_dataset = tf.data.Dataset.from_tensor_slices((x_train, y_train))\n",
        "train_dataset = (\n",
        "    train_dataset.map(\n",
        "        encode_single_sample, num_parallel_calls=tf.data.AUTOTUNE\n",
        "    )\n",
        "    .batch(batch_size)\n",
        "    .prefetch(buffer_size=tf.data.AUTOTUNE)\n",
        ")\n",
        "\n",
        "validation_dataset = tf.data.Dataset.from_tensor_slices((x_valid, y_valid))\n",
        "validation_dataset = (\n",
        "    validation_dataset.map(\n",
        "        encode_single_sample, num_parallel_calls=tf.data.AUTOTUNE\n",
        "    )\n",
        "    .batch(batch_size)\n",
        "    .prefetch(buffer_size=tf.data.AUTOTUNE)\n",
        ")"
      ]
    },
    {
      "cell_type": "markdown",
      "metadata": {
        "id": "By9WAVtD9xUM"
      },
      "source": [
        "## Visualize the data"
      ]
    },
    {
      "cell_type": "code",
      "execution_count": null,
      "metadata": {
        "colab": {
          "base_uri": "https://localhost:8080/",
          "height": 402
        },
        "id": "aPb0o8tRvFGT",
        "outputId": "18b9fb29-5749-4c70-da83-f88695baffd5"
      },
      "outputs": [
        {
          "data": {
            "image/png": "[encoded data removed]",
            "text/plain": [
              "<Figure size 1000x500 with 16 Axes>"
            ]
          },
          "metadata": {},
          "output_type": "display_data"
        }
      ],
      "source": [
        "_, ax = plt.subplots(4, 4, figsize=(10, 5))\n",
        "for batch in train_dataset.take(1):\n",
        "    images = batch[\"image\"]\n",
        "    labels = batch[\"label\"]\n",
        "    for i in range(16):\n",
        "        img = (images[i] * 255).numpy().astype(\"uint8\")\n",
        "        label = tf.strings.reduce_join(num_to_char(labels[i])).numpy().decode(\"utf-8\")\n",
        "        ax[i // 4, i % 4].imshow(img[:, :, 0].T, cmap=\"gray\")\n",
        "        ax[i // 4, i % 4].set_title(label)\n",
        "        ax[i // 4, i % 4].axis(\"off\")\n",
        "plt.show()"
      ]
    },
    {
      "cell_type": "markdown",
      "metadata": {
        "id": "y-mNYZvV_vyw"
      },
      "source": [
        "## Model"
      ]
    },
    {
      "cell_type": "code",
      "execution_count": null,
      "metadata": {
        "id": "WmYrShDrvFJH"
      },
      "outputs": [],
      "source": [
        "class CTCLayer(layers.Layer):\n",
        "    def __init__(self, name=None):\n",
        "        super().__init__(name=name)\n",
        "        self.loss_fn = keras.backend.ctc_batch_cost\n",
        "\n",
        "    def call(self, y_true, y_pred):\n",
        "        # Compute the training-time loss value and add it\n",
        "        # to the layer using `self.add_loss()`.\n",
        "        batch_len = tf.cast(tf.shape(y_true)[0], dtype=\"int64\")\n",
        "        input_length = tf.cast(tf.shape(y_pred)[1], dtype=\"int64\")\n",
        "        label_length = tf.cast(tf.shape(y_true)[1], dtype=\"int64\")\n",
        "\n",
        "        input_length = input_length * tf.ones(shape=(batch_len, 1), dtype=\"int64\")\n",
        "        label_length = label_length * tf.ones(shape=(batch_len, 1), dtype=\"int64\")\n",
        "\n",
        "        loss = self.loss_fn(y_true, y_pred, input_length, label_length)\n",
        "        self.add_loss(loss)\n",
        "\n",
        "        # At test time, just return the computed predictions\n",
        "        return y_pred"
      ]
    },
    {
      "cell_type": "code",
      "execution_count": null,
      "metadata": {
        "colab": {
          "base_uri": "https://localhost:8080/",
          "height": 593
        },
        "id": "uoS63RG4vFLy",
        "outputId": "b5c0eaba-c93f-4713-d35f-cda691a2c247"
      },
      "outputs": [
        {
          "data": {
            "text/html": [
              "<pre style=\"white-space:pre;overflow-x:auto;line-height:normal;font-family:Menlo,'DejaVu Sans Mono',consolas,'Courier New',monospace\"><span style=\"font-weight: bold\">Model: \"ocr_model_v1\"</span>\n",
              "</pre>\n"
            ],
            "text/plain": [
              "\u001b[1mModel: \"ocr_model_v1\"\u001b[0m\n"
            ]
          },
          "metadata": {},
          "output_type": "display_data"
        },
        {
          "data": {
            "text/html": [
              "<pre style=\"white-space:pre;overflow-x:auto;line-height:normal;font-family:Menlo,'DejaVu Sans Mono',consolas,'Courier New',monospace\">┏━━━━━━━━━━━━━━━━━━━━━━━━━━━┳━━━━━━━━━━━━━━━━━━━━━━━━┳━━━━━━━━━━━━━━━━┳━━━━━━━━━━━━━━━━━━━━━━━━┓\n",
              "┃<span style=\"font-weight: bold\"> Layer (type)              </span>┃<span style=\"font-weight: bold\"> Output Shape           </span>┃<span style=\"font-weight: bold\">        Param # </span>┃<span style=\"font-weight: bold\"> Connected to           </span>┃\n",
              "┡━━━━━━━━━━━━━━━━━━━━━━━━━━━╇━━━━━━━━━━━━━━━━━━━━━━━━╇━━━━━━━━━━━━━━━━╇━━━━━━━━━━━━━━━━━━━━━━━━┩\n",
              "│ image (<span style=\"color: #0087ff; text-decoration-color: #0087ff\">InputLayer</span>)        │ (<span style=\"color: #00d7ff; text-decoration-color: #00d7ff\">None</span>, <span style=\"color: #00af00; text-decoration-color: #00af00\">200</span>, <span style=\"color: #00af00; text-decoration-color: #00af00\">50</span>, <span style=\"color: #00af00; text-decoration-color: #00af00\">1</span>)     │              <span style=\"color: #00af00; text-decoration-color: #00af00\">0</span> │ -                      │\n",
              "├───────────────────────────┼────────────────────────┼────────────────┼────────────────────────┤\n",
              "│ Conv1 (<span style=\"color: #0087ff; text-decoration-color: #0087ff\">Conv2D</span>)            │ (<span style=\"color: #00d7ff; text-decoration-color: #00d7ff\">None</span>, <span style=\"color: #00af00; text-decoration-color: #00af00\">200</span>, <span style=\"color: #00af00; text-decoration-color: #00af00\">50</span>, <span style=\"color: #00af00; text-decoration-color: #00af00\">32</span>)    │            <span style=\"color: #00af00; text-decoration-color: #00af00\">320</span> │ image[<span style=\"color: #00af00; text-decoration-color: #00af00\">0</span>][<span style=\"color: #00af00; text-decoration-color: #00af00\">0</span>]            │\n",
              "├───────────────────────────┼────────────────────────┼────────────────┼────────────────────────┤\n",
              "│ pool1 (<span style=\"color: #0087ff; text-decoration-color: #0087ff\">MaxPooling2D</span>)      │ (<span style=\"color: #00d7ff; text-decoration-color: #00d7ff\">None</span>, <span style=\"color: #00af00; text-decoration-color: #00af00\">100</span>, <span style=\"color: #00af00; text-decoration-color: #00af00\">25</span>, <span style=\"color: #00af00; text-decoration-color: #00af00\">32</span>)    │              <span style=\"color: #00af00; text-decoration-color: #00af00\">0</span> │ Conv1[<span style=\"color: #00af00; text-decoration-color: #00af00\">0</span>][<span style=\"color: #00af00; text-decoration-color: #00af00\">0</span>]            │\n",
              "├───────────────────────────┼────────────────────────┼────────────────┼────────────────────────┤\n",
              "│ Conv2 (<span style=\"color: #0087ff; text-decoration-color: #0087ff\">Conv2D</span>)            │ (<span style=\"color: #00d7ff; text-decoration-color: #00d7ff\">None</span>, <span style=\"color: #00af00; text-decoration-color: #00af00\">100</span>, <span style=\"color: #00af00; text-decoration-color: #00af00\">25</span>, <span style=\"color: #00af00; text-decoration-color: #00af00\">64</span>)    │         <span style=\"color: #00af00; text-decoration-color: #00af00\">18,496</span> │ pool1[<span style=\"color: #00af00; text-decoration-color: #00af00\">0</span>][<span style=\"color: #00af00; text-decoration-color: #00af00\">0</span>]            │\n",
              "├───────────────────────────┼────────────────────────┼────────────────┼────────────────────────┤\n",
              "│ pool2 (<span style=\"color: #0087ff; text-decoration-color: #0087ff\">MaxPooling2D</span>)      │ (<span style=\"color: #00d7ff; text-decoration-color: #00d7ff\">None</span>, <span style=\"color: #00af00; text-decoration-color: #00af00\">50</span>, <span style=\"color: #00af00; text-decoration-color: #00af00\">12</span>, <span style=\"color: #00af00; text-decoration-color: #00af00\">64</span>)     │              <span style=\"color: #00af00; text-decoration-color: #00af00\">0</span> │ Conv2[<span style=\"color: #00af00; text-decoration-color: #00af00\">0</span>][<span style=\"color: #00af00; text-decoration-color: #00af00\">0</span>]            │\n",
              "├───────────────────────────┼────────────────────────┼────────────────┼────────────────────────┤\n",
              "│ reshape (<span style=\"color: #0087ff; text-decoration-color: #0087ff\">Reshape</span>)         │ (<span style=\"color: #00d7ff; text-decoration-color: #00d7ff\">None</span>, <span style=\"color: #00af00; text-decoration-color: #00af00\">50</span>, <span style=\"color: #00af00; text-decoration-color: #00af00\">768</span>)        │              <span style=\"color: #00af00; text-decoration-color: #00af00\">0</span> │ pool2[<span style=\"color: #00af00; text-decoration-color: #00af00\">0</span>][<span style=\"color: #00af00; text-decoration-color: #00af00\">0</span>]            │\n",
              "├───────────────────────────┼────────────────────────┼────────────────┼────────────────────────┤\n",
              "│ dense1 (<span style=\"color: #0087ff; text-decoration-color: #0087ff\">Dense</span>)            │ (<span style=\"color: #00d7ff; text-decoration-color: #00d7ff\">None</span>, <span style=\"color: #00af00; text-decoration-color: #00af00\">50</span>, <span style=\"color: #00af00; text-decoration-color: #00af00\">64</span>)         │         <span style=\"color: #00af00; text-decoration-color: #00af00\">49,216</span> │ reshape[<span style=\"color: #00af00; text-decoration-color: #00af00\">0</span>][<span style=\"color: #00af00; text-decoration-color: #00af00\">0</span>]          │\n",
              "├───────────────────────────┼────────────────────────┼────────────────┼────────────────────────┤\n",
              "│ dropout (<span style=\"color: #0087ff; text-decoration-color: #0087ff\">Dropout</span>)         │ (<span style=\"color: #00d7ff; text-decoration-color: #00d7ff\">None</span>, <span style=\"color: #00af00; text-decoration-color: #00af00\">50</span>, <span style=\"color: #00af00; text-decoration-color: #00af00\">64</span>)         │              <span style=\"color: #00af00; text-decoration-color: #00af00\">0</span> │ dense1[<span style=\"color: #00af00; text-decoration-color: #00af00\">0</span>][<span style=\"color: #00af00; text-decoration-color: #00af00\">0</span>]           │\n",
              "├───────────────────────────┼────────────────────────┼────────────────┼────────────────────────┤\n",
              "│ bidirectional             │ (<span style=\"color: #00d7ff; text-decoration-color: #00d7ff\">None</span>, <span style=\"color: #00af00; text-decoration-color: #00af00\">50</span>, <span style=\"color: #00af00; text-decoration-color: #00af00\">256</span>)        │        <span style=\"color: #00af00; text-decoration-color: #00af00\">197,632</span> │ dropout[<span style=\"color: #00af00; text-decoration-color: #00af00\">0</span>][<span style=\"color: #00af00; text-decoration-color: #00af00\">0</span>]          │\n",
              "│ (<span style=\"color: #0087ff; text-decoration-color: #0087ff\">Bidirectional</span>)           │                        │                │                        │\n",
              "├───────────────────────────┼────────────────────────┼────────────────┼────────────────────────┤\n",
              "│ bidirectional_1           │ (<span style=\"color: #00d7ff; text-decoration-color: #00d7ff\">None</span>, <span style=\"color: #00af00; text-decoration-color: #00af00\">50</span>, <span style=\"color: #00af00; text-decoration-color: #00af00\">128</span>)        │        <span style=\"color: #00af00; text-decoration-color: #00af00\">164,352</span> │ bidirectional[<span style=\"color: #00af00; text-decoration-color: #00af00\">0</span>][<span style=\"color: #00af00; text-decoration-color: #00af00\">0</span>]    │\n",
              "│ (<span style=\"color: #0087ff; text-decoration-color: #0087ff\">Bidirectional</span>)           │                        │                │                        │\n",
              "├───────────────────────────┼────────────────────────┼────────────────┼────────────────────────┤\n",
              "│ label (<span style=\"color: #0087ff; text-decoration-color: #0087ff\">InputLayer</span>)        │ (<span style=\"color: #00d7ff; text-decoration-color: #00d7ff\">None</span>, <span style=\"color: #00d7ff; text-decoration-color: #00d7ff\">None</span>)           │              <span style=\"color: #00af00; text-decoration-color: #00af00\">0</span> │ -                      │\n",
              "├───────────────────────────┼────────────────────────┼────────────────┼────────────────────────┤\n",
              "│ dense2 (<span style=\"color: #0087ff; text-decoration-color: #0087ff\">Dense</span>)            │ (<span style=\"color: #00d7ff; text-decoration-color: #00d7ff\">None</span>, <span style=\"color: #00af00; text-decoration-color: #00af00\">50</span>, <span style=\"color: #00af00; text-decoration-color: #00af00\">13</span>)         │          <span style=\"color: #00af00; text-decoration-color: #00af00\">1,677</span> │ bidirectional_1[<span style=\"color: #00af00; text-decoration-color: #00af00\">0</span>][<span style=\"color: #00af00; text-decoration-color: #00af00\">0</span>]  │\n",
              "├───────────────────────────┼────────────────────────┼────────────────┼────────────────────────┤\n",
              "│ ctc_loss (<span style=\"color: #0087ff; text-decoration-color: #0087ff\">CTCLayer</span>)       │ (<span style=\"color: #00d7ff; text-decoration-color: #00d7ff\">None</span>, <span style=\"color: #00af00; text-decoration-color: #00af00\">50</span>, <span style=\"color: #00af00; text-decoration-color: #00af00\">13</span>)         │              <span style=\"color: #00af00; text-decoration-color: #00af00\">0</span> │ label[<span style=\"color: #00af00; text-decoration-color: #00af00\">0</span>][<span style=\"color: #00af00; text-decoration-color: #00af00\">0</span>],           │\n",
              "│                           │                        │                │ dense2[<span style=\"color: #00af00; text-decoration-color: #00af00\">0</span>][<span style=\"color: #00af00; text-decoration-color: #00af00\">0</span>]           │\n",
              "└───────────────────────────┴────────────────────────┴────────────────┴────────────────────────┘\n",
              "</pre>\n"
            ],
            "text/plain": [
              "┏━━━━━━━━━━━━━━━━━━━━━━━━━━━┳━━━━━━━━━━━━━━━━━━━━━━━━┳━━━━━━━━━━━━━━━━┳━━━━━━━━━━━━━━━━━━━━━━━━┓\n",
              "┃\u001b[1m \u001b[0m\u001b[1mLayer (type)             \u001b[0m\u001b[1m \u001b[0m┃\u001b[1m \u001b[0m\u001b[1mOutput Shape          \u001b[0m\u001b[1m \u001b[0m┃\u001b[1m \u001b[0m\u001b[1m       Param #\u001b[0m\u001b[1m \u001b[0m┃\u001b[1m \u001b[0m\u001b[1mConnected to          \u001b[0m\u001b[1m \u001b[0m┃\n",
              "┡━━━━━━━━━━━━━━━━━━━━━━━━━━━╇━━━━━━━━━━━━━━━━━━━━━━━━╇━━━━━━━━━━━━━━━━╇━━━━━━━━━━━━━━━━━━━━━━━━┩\n",
              "│ image (\u001b[38;5;33mInputLayer\u001b[0m)        │ (\u001b[38;5;45mNone\u001b[0m, \u001b[38;5;34m200\u001b[0m, \u001b[38;5;34m50\u001b[0m, \u001b[38;5;34m1\u001b[0m)     │              \u001b[38;5;34m0\u001b[0m │ -                      │\n",
              "├───────────────────────────┼────────────────────────┼────────────────┼────────────────────────┤\n",
              "│ Conv1 (\u001b[38;5;33mConv2D\u001b[0m)            │ (\u001b[38;5;45mNone\u001b[0m, \u001b[38;5;34m200\u001b[0m, \u001b[38;5;34m50\u001b[0m, \u001b[38;5;34m32\u001b[0m)    │            \u001b[38;5;34m320\u001b[0m │ image[\u001b[38;5;34m0\u001b[0m][\u001b[38;5;34m0\u001b[0m]            │\n",
              "├───────────────────────────┼────────────────────────┼────────────────┼────────────────────────┤\n",
              "│ pool1 (\u001b[38;5;33mMaxPooling2D\u001b[0m)      │ (\u001b[38;5;45mNone\u001b[0m, \u001b[38;5;34m100\u001b[0m, \u001b[38;5;34m25\u001b[0m, \u001b[38;5;34m32\u001b[0m)    │              \u001b[38;5;34m0\u001b[0m │ Conv1[\u001b[38;5;34m0\u001b[0m][\u001b[38;5;34m0\u001b[0m]            │\n",
              "├───────────────────────────┼────────────────────────┼────────────────┼────────────────────────┤\n",
              "│ Conv2 (\u001b[38;5;33mConv2D\u001b[0m)            │ (\u001b[38;5;45mNone\u001b[0m, \u001b[38;5;34m100\u001b[0m, \u001b[38;5;34m25\u001b[0m, \u001b[38;5;34m64\u001b[0m)    │         \u001b[38;5;34m18,496\u001b[0m │ pool1[\u001b[38;5;34m0\u001b[0m][\u001b[38;5;34m0\u001b[0m]            │\n",
              "├───────────────────────────┼────────────────────────┼────────────────┼────────────────────────┤\n",
              "│ pool2 (\u001b[38;5;33mMaxPooling2D\u001b[0m)      │ (\u001b[38;5;45mNone\u001b[0m, \u001b[38;5;34m50\u001b[0m, \u001b[38;5;34m12\u001b[0m, \u001b[38;5;34m64\u001b[0m)     │              \u001b[38;5;34m0\u001b[0m │ Conv2[\u001b[38;5;34m0\u001b[0m][\u001b[38;5;34m0\u001b[0m]            │\n",
              "├───────────────────────────┼────────────────────────┼────────────────┼────────────────────────┤\n",
              "│ reshape (\u001b[38;5;33mReshape\u001b[0m)         │ (\u001b[38;5;45mNone\u001b[0m, \u001b[38;5;34m50\u001b[0m, \u001b[38;5;34m768\u001b[0m)        │              \u001b[38;5;34m0\u001b[0m │ pool2[\u001b[38;5;34m0\u001b[0m][\u001b[38;5;34m0\u001b[0m]            │\n",
              "├───────────────────────────┼────────────────────────┼────────────────┼────────────────────────┤\n",
              "│ dense1 (\u001b[38;5;33mDense\u001b[0m)            │ (\u001b[38;5;45mNone\u001b[0m, \u001b[38;5;34m50\u001b[0m, \u001b[38;5;34m64\u001b[0m)         │         \u001b[38;5;34m49,216\u001b[0m │ reshape[\u001b[38;5;34m0\u001b[0m][\u001b[38;5;34m0\u001b[0m]          │\n",
              "├───────────────────────────┼────────────────────────┼────────────────┼────────────────────────┤\n",
              "│ dropout (\u001b[38;5;33mDropout\u001b[0m)         │ (\u001b[38;5;45mNone\u001b[0m, \u001b[38;5;34m50\u001b[0m, \u001b[38;5;34m64\u001b[0m)         │              \u001b[38;5;34m0\u001b[0m │ dense1[\u001b[38;5;34m0\u001b[0m][\u001b[38;5;34m0\u001b[0m]           │\n",
              "├───────────────────────────┼────────────────────────┼────────────────┼────────────────────────┤\n",
              "│ bidirectional             │ (\u001b[38;5;45mNone\u001b[0m, \u001b[38;5;34m50\u001b[0m, \u001b[38;5;34m256\u001b[0m)        │        \u001b[38;5;34m197,632\u001b[0m │ dropout[\u001b[38;5;34m0\u001b[0m][\u001b[38;5;34m0\u001b[0m]          │\n",
              "│ (\u001b[38;5;33mBidirectional\u001b[0m)           │                        │                │                        │\n",
              "├───────────────────────────┼────────────────────────┼────────────────┼────────────────────────┤\n",
              "│ bidirectional_1           │ (\u001b[38;5;45mNone\u001b[0m, \u001b[38;5;34m50\u001b[0m, \u001b[38;5;34m128\u001b[0m)        │        \u001b[38;5;34m164,352\u001b[0m │ bidirectional[\u001b[38;5;34m0\u001b[0m][\u001b[38;5;34m0\u001b[0m]    │\n",
              "│ (\u001b[38;5;33mBidirectional\u001b[0m)           │                        │                │                        │\n",
              "├───────────────────────────┼────────────────────────┼────────────────┼────────────────────────┤\n",
              "│ label (\u001b[38;5;33mInputLayer\u001b[0m)        │ (\u001b[38;5;45mNone\u001b[0m, \u001b[38;5;45mNone\u001b[0m)           │              \u001b[38;5;34m0\u001b[0m │ -                      │\n",
              "├───────────────────────────┼────────────────────────┼────────────────┼────────────────────────┤\n",
              "│ dense2 (\u001b[38;5;33mDense\u001b[0m)            │ (\u001b[38;5;45mNone\u001b[0m, \u001b[38;5;34m50\u001b[0m, \u001b[38;5;34m13\u001b[0m)         │          \u001b[38;5;34m1,677\u001b[0m │ bidirectional_1[\u001b[38;5;34m0\u001b[0m][\u001b[38;5;34m0\u001b[0m]  │\n",
              "├───────────────────────────┼────────────────────────┼────────────────┼────────────────────────┤\n",
              "│ ctc_loss (\u001b[38;5;33mCTCLayer\u001b[0m)       │ (\u001b[38;5;45mNone\u001b[0m, \u001b[38;5;34m50\u001b[0m, \u001b[38;5;34m13\u001b[0m)         │              \u001b[38;5;34m0\u001b[0m │ label[\u001b[38;5;34m0\u001b[0m][\u001b[38;5;34m0\u001b[0m],           │\n",
              "│                           │                        │                │ dense2[\u001b[38;5;34m0\u001b[0m][\u001b[38;5;34m0\u001b[0m]           │\n",
              "└───────────────────────────┴────────────────────────┴────────────────┴────────────────────────┘\n"
            ]
          },
          "metadata": {},
          "output_type": "display_data"
        },
        {
          "data": {
            "text/html": [
              "<pre style=\"white-space:pre;overflow-x:auto;line-height:normal;font-family:Menlo,'DejaVu Sans Mono',consolas,'Courier New',monospace\"><span style=\"font-weight: bold\"> Total params: </span><span style=\"color: #00af00; text-decoration-color: #00af00\">431,693</span> (1.65 MB)\n",
              "</pre>\n"
            ],
            "text/plain": [
              "\u001b[1m Total params: \u001b[0m\u001b[38;5;34m431,693\u001b[0m (1.65 MB)\n"
            ]
          },
          "metadata": {},
          "output_type": "display_data"
        },
        {
          "data": {
            "text/html": [
              "<pre style=\"white-space:pre;overflow-x:auto;line-height:normal;font-family:Menlo,'DejaVu Sans Mono',consolas,'Courier New',monospace\"><span style=\"font-weight: bold\"> Trainable params: </span><span style=\"color: #00af00; text-decoration-color: #00af00\">431,693</span> (1.65 MB)\n",
              "</pre>\n"
            ],
            "text/plain": [
              "\u001b[1m Trainable params: \u001b[0m\u001b[38;5;34m431,693\u001b[0m (1.65 MB)\n"
            ]
          },
          "metadata": {},
          "output_type": "display_data"
        },
        {
          "data": {
            "text/html": [
              "<pre style=\"white-space:pre;overflow-x:auto;line-height:normal;font-family:Menlo,'DejaVu Sans Mono',consolas,'Courier New',monospace\"><span style=\"font-weight: bold\"> Non-trainable params: </span><span style=\"color: #00af00; text-decoration-color: #00af00\">0</span> (0.00 B)\n",
              "</pre>\n"
            ],
            "text/plain": [
              "\u001b[1m Non-trainable params: \u001b[0m\u001b[38;5;34m0\u001b[0m (0.00 B)\n"
            ]
          },
          "metadata": {},
          "output_type": "display_data"
        }
      ],
      "source": [
        "def build_model():\n",
        "    # Inputs to the model\n",
        "    input_img = layers.Input(\n",
        "        shape=(img_width, img_height, 1), name=\"image\", dtype=\"float32\"\n",
        "    )\n",
        "    labels = layers.Input(name=\"label\", shape=(None,), dtype=\"float32\")\n",
        "\n",
        "    # First conv block\n",
        "    x = layers.Conv2D(\n",
        "        32,\n",
        "        (3, 3),\n",
        "        activation=\"relu\",\n",
        "        kernel_initializer=\"he_normal\",\n",
        "        padding=\"same\",\n",
        "        name=\"Conv1\",\n",
        "    )(input_img)\n",
        "    x = layers.MaxPooling2D((2, 2), name=\"pool1\")(x)\n",
        "\n",
        "    # Second conv block\n",
        "    x = layers.Conv2D(\n",
        "        64,\n",
        "        (3, 3),\n",
        "        activation=\"relu\",\n",
        "        kernel_initializer=\"he_normal\",\n",
        "        padding=\"same\",\n",
        "        name=\"Conv2\",\n",
        "    )(x)\n",
        "    x = layers.MaxPooling2D((2, 2), name=\"pool2\")(x)\n",
        "\n",
        "    # We have used two max pool with pool size and strides 2.\n",
        "    # Hence, downsampled feature maps are 4x smaller. The number of\n",
        "    # filters in the last layer is 64. Reshape accordingly before\n",
        "    # passing the output to the RNN part of the model\n",
        "    new_shape = ((img_width // 4), (img_height // 4) * 64)\n",
        "    x = layers.Reshape(target_shape=new_shape, name=\"reshape\")(x)\n",
        "    x = layers.Dense(64, activation=\"relu\", name=\"dense1\")(x)\n",
        "    x = layers.Dropout(0.2)(x)\n",
        "\n",
        "    # RNNs\n",
        "    x = layers.Bidirectional(layers.LSTM(128, return_sequences=True, dropout=0.25))(x)\n",
        "    x = layers.Bidirectional(layers.LSTM(64, return_sequences=True, dropout=0.25))(x)\n",
        "\n",
        "    # Output layer\n",
        "    x = layers.Dense(\n",
        "        len(char_to_num.get_vocabulary()) + 1, activation=\"softmax\", name=\"dense2\"\n",
        "    )(x)\n",
        "\n",
        "    # Add CTC layer for calculating CTC loss at each step\n",
        "    output = CTCLayer(name=\"ctc_loss\")(labels, x)\n",
        "\n",
        "    # Define the model\n",
        "    model = keras.models.Model(\n",
        "        inputs=[input_img, labels], outputs=output, name=\"ocr_model_v1\"\n",
        "    )\n",
        "    # Optimizer\n",
        "    opt = keras.optimizers.Adam()\n",
        "    # Compile the model and return\n",
        "    model.compile(optimizer=opt)\n",
        "    return model\n",
        "\n",
        "\n",
        "# Get the model\n",
        "model = build_model()\n",
        "model.summary()"
      ]
    },
    {
      "cell_type": "code",
      "execution_count": null,
      "metadata": {
        "colab": {
          "base_uri": "https://localhost:8080/"
        },
        "id": "10Tk7MxLWNFx",
        "outputId": "63388ccc-b674-483b-cb02-34ce808f6fb9"
      },
      "outputs": [
        {
          "data": {
            "text/plain": [
              "[]"
            ]
          },
          "execution_count": 19,
          "metadata": {},
          "output_type": "execute_result"
        }
      ],
      "source": [
        "tf.config.list_physical_devices('GPU')"
      ]
    },
    {
      "cell_type": "code",
      "execution_count": null,
      "metadata": {
        "colab": {
          "base_uri": "https://localhost:8080/"
        },
        "id": "qis4A9soWNqX",
        "outputId": "8b64134a-bd26-459e-e2a9-91b198a5599c"
      },
      "outputs": [
        {
          "name": "stdout",
          "output_type": "stream",
          "text": [
            "/bin/bash: line 1: nvidia-smi: command not found\n"
          ]
        }
      ],
      "source": [
        "!nvidia-smi"
      ]
    },
    {
      "cell_type": "code",
      "execution_count": null,
      "metadata": {
        "id": "Qx5gr63R8j8A"
      },
      "outputs": [],
      "source": [
        "tf.random.set_seed(42)"
      ]
    },
    {
      "cell_type": "code",
      "execution_count": null,
      "metadata": {
        "colab": {
          "background_save": true,
          "base_uri": "https://localhost:8080/"
        },
        "id": "6-cEFue6un1y",
        "outputId": "a1c37057-b321-47c4-c28d-4016c592658a"
      },
      "outputs": [
        {
          "name": "stdout",
          "output_type": "stream",
          "text": [
            "Epoch 1/10\n",
            "\u001b[1m1124/1124\u001b[0m \u001b[32m━━━━━━━━━━━━━━━━━━━━\u001b[0m\u001b[37m\u001b[0m \u001b[1m534s\u001b[0m 462ms/step - loss: 317.6409 - val_loss: 159.2879\n",
            "Epoch 2/10\n",
            "\u001b[1m1124/1124\u001b[0m \u001b[32m━━━━━━━━━━━━━━━━━━━━\u001b[0m\u001b[37m\u001b[0m \u001b[1m541s\u001b[0m 443ms/step - loss: 147.5410 - val_loss: 112.2135\n",
            "Epoch 3/10\n",
            "\u001b[1m1124/1124\u001b[0m \u001b[32m━━━━━━━━━━━━━━━━━━━━\u001b[0m\u001b[37m\u001b[0m \u001b[1m482s\u001b[0m 429ms/step - loss: 100.1916 - val_loss: 60.0062\n",
            "Epoch 4/10\n",
            "\u001b[1m1124/1124\u001b[0m \u001b[32m━━━━━━━━━━━━━━━━━━━━\u001b[0m\u001b[37m\u001b[0m \u001b[1m479s\u001b[0m 426ms/step - loss: 58.2022 - val_loss: 36.3055\n",
            "Epoch 5/10\n",
            "\u001b[1m1124/1124\u001b[0m \u001b[32m━━━━━━━━━━━━━━━━━━━━\u001b[0m\u001b[37m\u001b[0m \u001b[1m501s\u001b[0m 425ms/step - loss: 34.0890 - val_loss: 9.9861\n",
            "Epoch 6/10\n",
            "\u001b[1m1124/1124\u001b[0m \u001b[32m━━━━━━━━━━━━━━━━━━━━\u001b[0m\u001b[37m\u001b[0m \u001b[1m497s\u001b[0m 421ms/step - loss: 9.4946 - val_loss: 0.8057\n",
            "Epoch 7/10\n",
            "\u001b[1m1124/1124\u001b[0m \u001b[32m━━━━━━━━━━━━━━━━━━━━\u001b[0m\u001b[37m\u001b[0m \u001b[1m504s\u001b[0m 422ms/step - loss: 2.2904 - val_loss: 0.2136\n",
            "Epoch 8/10\n",
            "\u001b[1m1124/1124\u001b[0m \u001b[32m━━━━━━━━━━━━━━━━━━━━\u001b[0m\u001b[37m\u001b[0m \u001b[1m471s\u001b[0m 419ms/step - loss: 1.8517 - val_loss: 0.2001\n",
            "Epoch 9/10\n",
            "\u001b[1m1124/1124\u001b[0m \u001b[32m━━━━━━━━━━━━━━━━━━━━\u001b[0m\u001b[37m\u001b[0m \u001b[1m505s\u001b[0m 422ms/step - loss: 1.9207 - val_loss: 0.1405\n",
            "Epoch 10/10\n",
            "\u001b[1m1124/1124\u001b[0m \u001b[32m━━━━━━━━━━━━━━━━━━━━\u001b[0m\u001b[37m\u001b[0m \u001b[1m498s\u001b[0m 418ms/step - loss: 1.4367 - val_loss: 0.0593\n"
          ]
        }
      ],
      "source": [
        "epochs = 40\n",
        "early_stopping_patience = 5\n",
        "# Add early stopping\n",
        "early_stopping = keras.callbacks.EarlyStopping(\n",
        "    monitor = \"val_loss\", patience=early_stopping_patience, restore_best_weights=True\n",
        ")\n",
        "\n",
        "# Train the model\n",
        "history = model.fit(\n",
        "    train_dataset,\n",
        "    validation_data=validation_dataset,\n",
        "    epochs=epochs,\n",
        "    callbacks=[early_stopping],\n",
        "\n",
        ")"
      ]
    },
    {
      "cell_type": "code",
      "execution_count": null,
      "metadata": {
        "colab": {
          "base_uri": "https://localhost:8080/",
          "height": 481
        },
        "id": "48DKitEVduQF",
        "outputId": "f1bab122-949b-40f7-a564-7dcf74563415"
      },
      "outputs": [
        {
          "data": {
            "text/html": [
              "<pre style=\"white-space:pre;overflow-x:auto;line-height:normal;font-family:Menlo,'DejaVu Sans Mono',consolas,'Courier New',monospace\"><span style=\"font-weight: bold\">Model: \"functional\"</span>\n",
              "</pre>\n"
            ],
            "text/plain": [
              "\u001b[1mModel: \"functional\"\u001b[0m\n"
            ]
          },
          "metadata": {},
          "output_type": "display_data"
        },
        {
          "data": {
            "text/html": [
              "<pre style=\"white-space:pre;overflow-x:auto;line-height:normal;font-family:Menlo,'DejaVu Sans Mono',consolas,'Courier New',monospace\">┏━━━━━━━━━━━━━━━━━━━━━━━━━━━━━━━━━━━━━━┳━━━━━━━━━━━━━━━━━━━━━━━━━━━━━┳━━━━━━━━━━━━━━━━━┓\n",
              "┃<span style=\"font-weight: bold\"> Layer (type)                         </span>┃<span style=\"font-weight: bold\"> Output Shape                </span>┃<span style=\"font-weight: bold\">         Param # </span>┃\n",
              "┡━━━━━━━━━━━━━━━━━━━━━━━━━━━━━━━━━━━━━━╇━━━━━━━━━━━━━━━━━━━━━━━━━━━━━╇━━━━━━━━━━━━━━━━━┩\n",
              "│ image (<span style=\"color: #0087ff; text-decoration-color: #0087ff\">InputLayer</span>)                   │ (<span style=\"color: #00d7ff; text-decoration-color: #00d7ff\">None</span>, <span style=\"color: #00af00; text-decoration-color: #00af00\">200</span>, <span style=\"color: #00af00; text-decoration-color: #00af00\">50</span>, <span style=\"color: #00af00; text-decoration-color: #00af00\">1</span>)          │               <span style=\"color: #00af00; text-decoration-color: #00af00\">0</span> │\n",
              "├──────────────────────────────────────┼─────────────────────────────┼─────────────────┤\n",
              "│ Conv1 (<span style=\"color: #0087ff; text-decoration-color: #0087ff\">Conv2D</span>)                       │ (<span style=\"color: #00d7ff; text-decoration-color: #00d7ff\">None</span>, <span style=\"color: #00af00; text-decoration-color: #00af00\">200</span>, <span style=\"color: #00af00; text-decoration-color: #00af00\">50</span>, <span style=\"color: #00af00; text-decoration-color: #00af00\">32</span>)         │             <span style=\"color: #00af00; text-decoration-color: #00af00\">320</span> │\n",
              "├──────────────────────────────────────┼─────────────────────────────┼─────────────────┤\n",
              "│ pool1 (<span style=\"color: #0087ff; text-decoration-color: #0087ff\">MaxPooling2D</span>)                 │ (<span style=\"color: #00d7ff; text-decoration-color: #00d7ff\">None</span>, <span style=\"color: #00af00; text-decoration-color: #00af00\">100</span>, <span style=\"color: #00af00; text-decoration-color: #00af00\">25</span>, <span style=\"color: #00af00; text-decoration-color: #00af00\">32</span>)         │               <span style=\"color: #00af00; text-decoration-color: #00af00\">0</span> │\n",
              "├──────────────────────────────────────┼─────────────────────────────┼─────────────────┤\n",
              "│ Conv2 (<span style=\"color: #0087ff; text-decoration-color: #0087ff\">Conv2D</span>)                       │ (<span style=\"color: #00d7ff; text-decoration-color: #00d7ff\">None</span>, <span style=\"color: #00af00; text-decoration-color: #00af00\">100</span>, <span style=\"color: #00af00; text-decoration-color: #00af00\">25</span>, <span style=\"color: #00af00; text-decoration-color: #00af00\">64</span>)         │          <span style=\"color: #00af00; text-decoration-color: #00af00\">18,496</span> │\n",
              "├──────────────────────────────────────┼─────────────────────────────┼─────────────────┤\n",
              "│ pool2 (<span style=\"color: #0087ff; text-decoration-color: #0087ff\">MaxPooling2D</span>)                 │ (<span style=\"color: #00d7ff; text-decoration-color: #00d7ff\">None</span>, <span style=\"color: #00af00; text-decoration-color: #00af00\">50</span>, <span style=\"color: #00af00; text-decoration-color: #00af00\">12</span>, <span style=\"color: #00af00; text-decoration-color: #00af00\">64</span>)          │               <span style=\"color: #00af00; text-decoration-color: #00af00\">0</span> │\n",
              "├──────────────────────────────────────┼─────────────────────────────┼─────────────────┤\n",
              "│ reshape (<span style=\"color: #0087ff; text-decoration-color: #0087ff\">Reshape</span>)                    │ (<span style=\"color: #00d7ff; text-decoration-color: #00d7ff\">None</span>, <span style=\"color: #00af00; text-decoration-color: #00af00\">50</span>, <span style=\"color: #00af00; text-decoration-color: #00af00\">768</span>)             │               <span style=\"color: #00af00; text-decoration-color: #00af00\">0</span> │\n",
              "├──────────────────────────────────────┼─────────────────────────────┼─────────────────┤\n",
              "│ dense1 (<span style=\"color: #0087ff; text-decoration-color: #0087ff\">Dense</span>)                       │ (<span style=\"color: #00d7ff; text-decoration-color: #00d7ff\">None</span>, <span style=\"color: #00af00; text-decoration-color: #00af00\">50</span>, <span style=\"color: #00af00; text-decoration-color: #00af00\">64</span>)              │          <span style=\"color: #00af00; text-decoration-color: #00af00\">49,216</span> │\n",
              "├──────────────────────────────────────┼─────────────────────────────┼─────────────────┤\n",
              "│ dropout (<span style=\"color: #0087ff; text-decoration-color: #0087ff\">Dropout</span>)                    │ (<span style=\"color: #00d7ff; text-decoration-color: #00d7ff\">None</span>, <span style=\"color: #00af00; text-decoration-color: #00af00\">50</span>, <span style=\"color: #00af00; text-decoration-color: #00af00\">64</span>)              │               <span style=\"color: #00af00; text-decoration-color: #00af00\">0</span> │\n",
              "├──────────────────────────────────────┼─────────────────────────────┼─────────────────┤\n",
              "│ bidirectional (<span style=\"color: #0087ff; text-decoration-color: #0087ff\">Bidirectional</span>)        │ (<span style=\"color: #00d7ff; text-decoration-color: #00d7ff\">None</span>, <span style=\"color: #00af00; text-decoration-color: #00af00\">50</span>, <span style=\"color: #00af00; text-decoration-color: #00af00\">256</span>)             │         <span style=\"color: #00af00; text-decoration-color: #00af00\">197,632</span> │\n",
              "├──────────────────────────────────────┼─────────────────────────────┼─────────────────┤\n",
              "│ bidirectional_1 (<span style=\"color: #0087ff; text-decoration-color: #0087ff\">Bidirectional</span>)      │ (<span style=\"color: #00d7ff; text-decoration-color: #00d7ff\">None</span>, <span style=\"color: #00af00; text-decoration-color: #00af00\">50</span>, <span style=\"color: #00af00; text-decoration-color: #00af00\">128</span>)             │         <span style=\"color: #00af00; text-decoration-color: #00af00\">164,352</span> │\n",
              "├──────────────────────────────────────┼─────────────────────────────┼─────────────────┤\n",
              "│ dense2 (<span style=\"color: #0087ff; text-decoration-color: #0087ff\">Dense</span>)                       │ (<span style=\"color: #00d7ff; text-decoration-color: #00d7ff\">None</span>, <span style=\"color: #00af00; text-decoration-color: #00af00\">50</span>, <span style=\"color: #00af00; text-decoration-color: #00af00\">13</span>)              │           <span style=\"color: #00af00; text-decoration-color: #00af00\">1,677</span> │\n",
              "└──────────────────────────────────────┴─────────────────────────────┴─────────────────┘\n",
              "</pre>\n"
            ],
            "text/plain": [
              "┏━━━━━━━━━━━━━━━━━━━━━━━━━━━━━━━━━━━━━━┳━━━━━━━━━━━━━━━━━━━━━━━━━━━━━┳━━━━━━━━━━━━━━━━━┓\n",
              "┃\u001b[1m \u001b[0m\u001b[1mLayer (type)                        \u001b[0m\u001b[1m \u001b[0m┃\u001b[1m \u001b[0m\u001b[1mOutput Shape               \u001b[0m\u001b[1m \u001b[0m┃\u001b[1m \u001b[0m\u001b[1m        Param #\u001b[0m\u001b[1m \u001b[0m┃\n",
              "┡━━━━━━━━━━━━━━━━━━━━━━━━━━━━━━━━━━━━━━╇━━━━━━━━━━━━━━━━━━━━━━━━━━━━━╇━━━━━━━━━━━━━━━━━┩\n",
              "│ image (\u001b[38;5;33mInputLayer\u001b[0m)                   │ (\u001b[38;5;45mNone\u001b[0m, \u001b[38;5;34m200\u001b[0m, \u001b[38;5;34m50\u001b[0m, \u001b[38;5;34m1\u001b[0m)          │               \u001b[38;5;34m0\u001b[0m │\n",
              "├──────────────────────────────────────┼─────────────────────────────┼─────────────────┤\n",
              "│ Conv1 (\u001b[38;5;33mConv2D\u001b[0m)                       │ (\u001b[38;5;45mNone\u001b[0m, \u001b[38;5;34m200\u001b[0m, \u001b[38;5;34m50\u001b[0m, \u001b[38;5;34m32\u001b[0m)         │             \u001b[38;5;34m320\u001b[0m │\n",
              "├──────────────────────────────────────┼─────────────────────────────┼─────────────────┤\n",
              "│ pool1 (\u001b[38;5;33mMaxPooling2D\u001b[0m)                 │ (\u001b[38;5;45mNone\u001b[0m, \u001b[38;5;34m100\u001b[0m, \u001b[38;5;34m25\u001b[0m, \u001b[38;5;34m32\u001b[0m)         │               \u001b[38;5;34m0\u001b[0m │\n",
              "├──────────────────────────────────────┼─────────────────────────────┼─────────────────┤\n",
              "│ Conv2 (\u001b[38;5;33mConv2D\u001b[0m)                       │ (\u001b[38;5;45mNone\u001b[0m, \u001b[38;5;34m100\u001b[0m, \u001b[38;5;34m25\u001b[0m, \u001b[38;5;34m64\u001b[0m)         │          \u001b[38;5;34m18,496\u001b[0m │\n",
              "├──────────────────────────────────────┼─────────────────────────────┼─────────────────┤\n",
              "│ pool2 (\u001b[38;5;33mMaxPooling2D\u001b[0m)                 │ (\u001b[38;5;45mNone\u001b[0m, \u001b[38;5;34m50\u001b[0m, \u001b[38;5;34m12\u001b[0m, \u001b[38;5;34m64\u001b[0m)          │               \u001b[38;5;34m0\u001b[0m │\n",
              "├──────────────────────────────────────┼─────────────────────────────┼─────────────────┤\n",
              "│ reshape (\u001b[38;5;33mReshape\u001b[0m)                    │ (\u001b[38;5;45mNone\u001b[0m, \u001b[38;5;34m50\u001b[0m, \u001b[38;5;34m768\u001b[0m)             │               \u001b[38;5;34m0\u001b[0m │\n",
              "├──────────────────────────────────────┼─────────────────────────────┼─────────────────┤\n",
              "│ dense1 (\u001b[38;5;33mDense\u001b[0m)                       │ (\u001b[38;5;45mNone\u001b[0m, \u001b[38;5;34m50\u001b[0m, \u001b[38;5;34m64\u001b[0m)              │          \u001b[38;5;34m49,216\u001b[0m │\n",
              "├──────────────────────────────────────┼─────────────────────────────┼─────────────────┤\n",
              "│ dropout (\u001b[38;5;33mDropout\u001b[0m)                    │ (\u001b[38;5;45mNone\u001b[0m, \u001b[38;5;34m50\u001b[0m, \u001b[38;5;34m64\u001b[0m)              │               \u001b[38;5;34m0\u001b[0m │\n",
              "├──────────────────────────────────────┼─────────────────────────────┼─────────────────┤\n",
              "│ bidirectional (\u001b[38;5;33mBidirectional\u001b[0m)        │ (\u001b[38;5;45mNone\u001b[0m, \u001b[38;5;34m50\u001b[0m, \u001b[38;5;34m256\u001b[0m)             │         \u001b[38;5;34m197,632\u001b[0m │\n",
              "├──────────────────────────────────────┼─────────────────────────────┼─────────────────┤\n",
              "│ bidirectional_1 (\u001b[38;5;33mBidirectional\u001b[0m)      │ (\u001b[38;5;45mNone\u001b[0m, \u001b[38;5;34m50\u001b[0m, \u001b[38;5;34m128\u001b[0m)             │         \u001b[38;5;34m164,352\u001b[0m │\n",
              "├──────────────────────────────────────┼─────────────────────────────┼─────────────────┤\n",
              "│ dense2 (\u001b[38;5;33mDense\u001b[0m)                       │ (\u001b[38;5;45mNone\u001b[0m, \u001b[38;5;34m50\u001b[0m, \u001b[38;5;34m13\u001b[0m)              │           \u001b[38;5;34m1,677\u001b[0m │\n",
              "└──────────────────────────────────────┴─────────────────────────────┴─────────────────┘\n"
            ]
          },
          "metadata": {},
          "output_type": "display_data"
        },
        {
          "data": {
            "text/html": [
              "<pre style=\"white-space:pre;overflow-x:auto;line-height:normal;font-family:Menlo,'DejaVu Sans Mono',consolas,'Courier New',monospace\"><span style=\"font-weight: bold\"> Total params: </span><span style=\"color: #00af00; text-decoration-color: #00af00\">431,693</span> (1.65 MB)\n",
              "</pre>\n"
            ],
            "text/plain": [
              "\u001b[1m Total params: \u001b[0m\u001b[38;5;34m431,693\u001b[0m (1.65 MB)\n"
            ]
          },
          "metadata": {},
          "output_type": "display_data"
        },
        {
          "data": {
            "text/html": [
              "<pre style=\"white-space:pre;overflow-x:auto;line-height:normal;font-family:Menlo,'DejaVu Sans Mono',consolas,'Courier New',monospace\"><span style=\"font-weight: bold\"> Trainable params: </span><span style=\"color: #00af00; text-decoration-color: #00af00\">431,693</span> (1.65 MB)\n",
              "</pre>\n"
            ],
            "text/plain": [
              "\u001b[1m Trainable params: \u001b[0m\u001b[38;5;34m431,693\u001b[0m (1.65 MB)\n"
            ]
          },
          "metadata": {},
          "output_type": "display_data"
        },
        {
          "data": {
            "text/html": [
              "<pre style=\"white-space:pre;overflow-x:auto;line-height:normal;font-family:Menlo,'DejaVu Sans Mono',consolas,'Courier New',monospace\"><span style=\"font-weight: bold\"> Non-trainable params: </span><span style=\"color: #00af00; text-decoration-color: #00af00\">0</span> (0.00 B)\n",
              "</pre>\n"
            ],
            "text/plain": [
              "\u001b[1m Non-trainable params: \u001b[0m\u001b[38;5;34m0\u001b[0m (0.00 B)\n"
            ]
          },
          "metadata": {},
          "output_type": "display_data"
        }
      ],
      "source": [
        "# Get the actual input layer of the original model\n",
        "input_layer = model.inputs[0]  # Assuming your model has a single input\n",
        "\n",
        "# Get the prediction model by extracting layers till the output layer\n",
        "prediction_model = tf.keras.models.Model(\n",
        "    inputs=input_layer, outputs=model.get_layer(name=\"dense2\").output\n",
        ")\n",
        "prediction_model.summary()"
      ]
    },
    {
      "cell_type": "code",
      "execution_count": null,
      "metadata": {
        "colab": {
          "base_uri": "https://localhost:8080/"
        },
        "id": "wqXl1Ak1fNYY",
        "outputId": "ebd0a003-aa40-4ca1-ee3c-4164371edbe9"
      },
      "outputs": [
        {
          "name": "stderr",
          "output_type": "stream",
          "text": [
            "WARNING:tensorflow:Issue encountered when serializing table_initializer.\n",
            "Type is unsupported, or the types of the items don't match field type in CollectionDef. Note this is a warning and probably safe to ignore.\n",
            "'NoneType' object has no attribute 'name'\n",
            "WARNING:tensorflow:Issue encountered when serializing table_initializer.\n",
            "Type is unsupported, or the types of the items don't match field type in CollectionDef. Note this is a warning and probably safe to ignore.\n",
            "'NoneType' object has no attribute 'name'\n",
            "WARNING:tf2onnx.tf_loader:TF freezing failed. Attempting to fix freezing errors.\n",
            "WARNING:tf2onnx.tf_loader:Removed Transpose ocr_model_v1_1/bidirectional_1_2/backward_lstm_1_1/AssignVariableOp\n",
            "WARNING:tf2onnx.tf_loader:Removed Transpose ocr_model_v1_1/bidirectional_1_2/forward_lstm_1_1/AssignVariableOp\n",
            "WARNING:tf2onnx.tf_loader:Removed Transpose ocr_model_v1_1/bidirectional_1/backward_lstm_1/AssignVariableOp\n",
            "WARNING:tf2onnx.tf_loader:Removed Transpose ocr_model_v1_1/bidirectional_1/forward_lstm_1/AssignVariableOp\n",
            "WARNING:tf2onnx.shape_inference:Cannot infer shape for ocr_model_v1_1/bidirectional_1/forward_lstm_1/CudnnRNNV3: ocr_model_v1_1/bidirectional_1/forward_lstm_1/CudnnRNNV3:3,ocr_model_v1_1/bidirectional_1/forward_lstm_1/CudnnRNNV3:4\n",
            "WARNING:tf2onnx.shape_inference:Cannot infer shape for ocr_model_v1_1/bidirectional_1/backward_lstm_1/CudnnRNNV3: ocr_model_v1_1/bidirectional_1/backward_lstm_1/CudnnRNNV3:3,ocr_model_v1_1/bidirectional_1/backward_lstm_1/CudnnRNNV3:4\n",
            "WARNING:tf2onnx.shape_inference:Cannot infer shape for ocr_model_v1_1/bidirectional_1_2/forward_lstm_1_1/CudnnRNNV3: ocr_model_v1_1/bidirectional_1_2/forward_lstm_1_1/CudnnRNNV3:3,ocr_model_v1_1/bidirectional_1_2/forward_lstm_1_1/CudnnRNNV3:4\n",
            "WARNING:tf2onnx.shape_inference:Cannot infer shape for ocr_model_v1_1/bidirectional_1_2/backward_lstm_1_1/CudnnRNNV3: ocr_model_v1_1/bidirectional_1_2/backward_lstm_1_1/CudnnRNNV3:3,ocr_model_v1_1/bidirectional_1_2/backward_lstm_1_1/CudnnRNNV3:4\n",
            "ERROR:tf2onnx.tfonnx:Tensorflow op [ocr_model_v1_1/bidirectional_1/forward_lstm_1/stateless_dropout/stateless_random_uniform/StatelessRandomUniformV2: StatelessRandomUniformV2] is not supported\n",
            "ERROR:tf2onnx.tfonnx:Tensorflow op [ocr_model_v1_1/bidirectional_1/forward_lstm_1/CudnnRNNV3: CudnnRNNV3] is not supported\n",
            "ERROR:tf2onnx.tfonnx:Tensorflow op [ocr_model_v1_1/bidirectional_1/backward_lstm_1/stateless_dropout/stateless_random_uniform/StatelessRandomUniformV2: StatelessRandomUniformV2] is not supported\n",
            "ERROR:tf2onnx.tfonnx:Tensorflow op [ocr_model_v1_1/bidirectional_1/backward_lstm_1/CudnnRNNV3: CudnnRNNV3] is not supported\n",
            "ERROR:tf2onnx.tfonnx:Tensorflow op [ocr_model_v1_1/bidirectional_1_2/forward_lstm_1_1/stateless_dropout/stateless_random_uniform/StatelessRandomUniformV2: StatelessRandomUniformV2] is not supported\n",
            "ERROR:tf2onnx.tfonnx:Tensorflow op [ocr_model_v1_1/bidirectional_1_2/forward_lstm_1_1/CudnnRNNV3: CudnnRNNV3] is not supported\n",
            "ERROR:tf2onnx.tfonnx:Tensorflow op [ocr_model_v1_1/bidirectional_1_2/backward_lstm_1_1/stateless_dropout/stateless_random_uniform/StatelessRandomUniformV2: StatelessRandomUniformV2] is not supported\n",
            "ERROR:tf2onnx.tfonnx:Tensorflow op [ocr_model_v1_1/bidirectional_1_2/backward_lstm_1_1/CudnnRNNV3: CudnnRNNV3] is not supported\n",
            "ERROR:tf2onnx.tfonnx:Unsupported ops: Counter({'StatelessRandomUniformV2': 4, 'CudnnRNNV3': 4})\n"
          ]
        }
      ],
      "source": [
        "import tf2onnx\n",
        "import onnx\n",
        "\n",
        "# Convert to ONNX\n",
        "spec = (\n",
        "    tf.TensorSpec((None, 200, 50, 1), tf.float32, name=\"image\"),\n",
        "    tf.TensorSpec((None, 10), tf.float32, name=\"dense2\"),  # Replace with actual details\n",
        ")\n",
        "\n",
        "# model = tf.keras.models.load_model('model..keras')\n",
        "# Use from_function for tf functions\n",
        "onnx_model, _ = tf2onnx.convert.from_keras(model, spec, opset=13)\n",
        "onnx.save(onnx_model, \"./model.onnx\")"
      ]
    },
    {
      "cell_type": "code",
      "execution_count": null,
      "metadata": {
        "colab": {
          "base_uri": "https://localhost:8080/"
        },
        "id": "dJPtPEgKIi27",
        "outputId": "12ba3a40-6fe6-4fee-c29e-0fb012d7ac19"
      },
      "outputs": [
        {
          "name": "stderr",
          "output_type": "stream",
          "text": [
            "WARNING:tensorflow:Issue encountered when serializing table_initializer.\n",
            "Type is unsupported, or the types of the items don't match field type in CollectionDef. Note this is a warning and probably safe to ignore.\n",
            "'NoneType' object has no attribute 'name'\n",
            "WARNING:tensorflow:Issue encountered when serializing table_initializer.\n",
            "Type is unsupported, or the types of the items don't match field type in CollectionDef. Note this is a warning and probably safe to ignore.\n",
            "'NoneType' object has no attribute 'name'\n",
            "WARNING:tf2onnx.tf_loader:TF freezing failed. Attempting to fix freezing errors.\n",
            "WARNING:tf2onnx.tf_loader:Removed Transpose functional_1/bidirectional_1_2/backward_lstm_1_1/AssignVariableOp\n",
            "WARNING:tf2onnx.tf_loader:Removed Transpose functional_1/bidirectional_1_2/forward_lstm_1_1/AssignVariableOp\n",
            "WARNING:tf2onnx.tf_loader:Removed Transpose functional_1/bidirectional_1/backward_lstm_1/AssignVariableOp\n",
            "WARNING:tf2onnx.tf_loader:Removed Transpose functional_1/bidirectional_1/forward_lstm_1/AssignVariableOp\n",
            "WARNING:tf2onnx.shape_inference:Cannot infer shape for functional_1/bidirectional_1/forward_lstm_1/CudnnRNNV3: functional_1/bidirectional_1/forward_lstm_1/CudnnRNNV3:3,functional_1/bidirectional_1/forward_lstm_1/CudnnRNNV3:4\n",
            "WARNING:tf2onnx.shape_inference:Cannot infer shape for functional_1/bidirectional_1/backward_lstm_1/CudnnRNNV3: functional_1/bidirectional_1/backward_lstm_1/CudnnRNNV3:3,functional_1/bidirectional_1/backward_lstm_1/CudnnRNNV3:4\n",
            "WARNING:tf2onnx.shape_inference:Cannot infer shape for functional_1/bidirectional_1_2/forward_lstm_1_1/CudnnRNNV3: functional_1/bidirectional_1_2/forward_lstm_1_1/CudnnRNNV3:3,functional_1/bidirectional_1_2/forward_lstm_1_1/CudnnRNNV3:4\n",
            "WARNING:tf2onnx.shape_inference:Cannot infer shape for functional_1/bidirectional_1_2/backward_lstm_1_1/CudnnRNNV3: functional_1/bidirectional_1_2/backward_lstm_1_1/CudnnRNNV3:3,functional_1/bidirectional_1_2/backward_lstm_1_1/CudnnRNNV3:4\n",
            "ERROR:tf2onnx.tfonnx:Tensorflow op [functional_1/bidirectional_1/forward_lstm_1/stateless_dropout/stateless_random_uniform/StatelessRandomUniformV2: StatelessRandomUniformV2] is not supported\n",
            "ERROR:tf2onnx.tfonnx:Tensorflow op [functional_1/bidirectional_1/forward_lstm_1/CudnnRNNV3: CudnnRNNV3] is not supported\n",
            "ERROR:tf2onnx.tfonnx:Tensorflow op [functional_1/bidirectional_1/backward_lstm_1/stateless_dropout/stateless_random_uniform/StatelessRandomUniformV2: StatelessRandomUniformV2] is not supported\n",
            "ERROR:tf2onnx.tfonnx:Tensorflow op [functional_1/bidirectional_1/backward_lstm_1/CudnnRNNV3: CudnnRNNV3] is not supported\n",
            "ERROR:tf2onnx.tfonnx:Tensorflow op [functional_1/bidirectional_1_2/forward_lstm_1_1/stateless_dropout/stateless_random_uniform/StatelessRandomUniformV2: StatelessRandomUniformV2] is not supported\n",
            "ERROR:tf2onnx.tfonnx:Tensorflow op [functional_1/bidirectional_1_2/forward_lstm_1_1/CudnnRNNV3: CudnnRNNV3] is not supported\n",
            "ERROR:tf2onnx.tfonnx:Tensorflow op [functional_1/bidirectional_1_2/backward_lstm_1_1/stateless_dropout/stateless_random_uniform/StatelessRandomUniformV2: StatelessRandomUniformV2] is not supported\n",
            "ERROR:tf2onnx.tfonnx:Tensorflow op [functional_1/bidirectional_1_2/backward_lstm_1_1/CudnnRNNV3: CudnnRNNV3] is not supported\n",
            "ERROR:tf2onnx.tfonnx:Unsupported ops: Counter({'StatelessRandomUniformV2': 4, 'CudnnRNNV3': 4})\n"
          ]
        }
      ],
      "source": [
        "# Convert to ONNX\n",
        "spec = (\n",
        "    tf.TensorSpec((None, 200, 50, 1), tf.float32, name=\"image\"),\n",
        ")\n",
        "onnx_model_pred, _ = tf2onnx.convert.from_keras(prediction_model, spec)\n",
        "onnx.save(onnx_model_pred, \"./pred_model.onnx\")"
      ]
    },
    {
      "cell_type": "code",
      "execution_count": 4,
      "metadata": {
        "id": "4eWNQZYFMcbG"
      },
      "outputs": [],
      "source": [
        "# A utility function to decode the output of the network\n",
        "def decode_batch_predictions(pred):\n",
        "    input_len = np.ones(pred.shape[0]) * pred.shape[1]\n",
        "    # Use greedy search. For complex tasks, you can use beam search\n",
        "    results = keras.backend.ctc_decode(pred, input_length=input_len, greedy=True)[0][0][\n",
        "        :, :max_length\n",
        "    ]\n",
        "    # Iterate over the results and get back the text\n",
        "    output_text = []\n",
        "    for res in results:\n",
        "        res = tf.strings.reduce_join(num_to_char(res)).numpy().decode(\"utf-8\")\n",
        "        output_text.append(res)\n",
        "    return output_text"
      ]
    },
    {
      "cell_type": "code",
      "execution_count": null,
      "metadata": {
        "colab": {
          "base_uri": "https://localhost:8080/",
          "height": 322
        },
        "id": "dZ-y9YCYMZA8",
        "outputId": "391b817e-3caa-400e-de85-93941bfde9c2"
      },
      "outputs": [
        {
          "name": "stdout",
          "output_type": "stream",
          "text": [
            "\u001b[1m1/1\u001b[0m \u001b[32m━━━━━━━━━━━━━━━━━━━━\u001b[0m\u001b[37m\u001b[0m \u001b[1m0s\u001b[0m 70ms/step\n"
          ]
        },
        {
          "data": {
            "image/png": "[encoded data removed]",
            "text/plain": [
              "<Figure size 1500x500 with 16 Axes>"
            ]
          },
          "metadata": {},
          "output_type": "display_data"
        }
      ],
      "source": [
        "#  Let's check results on some validation samples\n",
        "for batch in validation_dataset.take(1):\n",
        "    batch_images = batch[\"image\"]\n",
        "    batch_labels = batch[\"label\"]\n",
        "\n",
        "    preds = prediction_model.predict(batch_images)\n",
        "    pred_texts = decode_batch_predictions(preds)\n",
        "\n",
        "    orig_texts = []\n",
        "    for label in batch_labels:\n",
        "        label = tf.strings.reduce_join(num_to_char(label)).numpy().decode(\"utf-8\")\n",
        "        orig_texts.append(label)\n",
        "\n",
        "    _, ax = plt.subplots(4, 4, figsize=(15, 5))\n",
        "    for i in range(len(pred_texts)):\n",
        "        img = (batch_images[i, :, :, 0] * 255).numpy().astype(np.uint8)\n",
        "        img = img.T\n",
        "        title = f\"Prediction: {pred_texts[i]}\"\n",
        "        ax[i // 4, i % 4].imshow(img, cmap=\"gray\")\n",
        "        ax[i // 4, i % 4].set_title(title)\n",
        "        ax[i // 4, i % 4].axis(\"off\")\n",
        "plt.show()"
      ]
    },
    {
      "cell_type": "code",
      "source": [
        "model.save('model.h5')\n",
        "prediction_model.save('pred_model.h5')"
      ],
      "metadata": {
        "id": "3Khn_UqPrcjK"
      },
      "execution_count": null,
      "outputs": []
    },
    {
      "cell_type": "code",
      "execution_count": null,
      "metadata": {
        "id": "SxYdyhlvHBM6"
      },
      "outputs": [],
      "source": [
        "import tf2onnx\n",
        "import onnx\n",
        "import tensorflow as tf\n",
        "\n",
        "# Convert to ONNX\n",
        "spec = (\n",
        "    tf.TensorSpec((None, 200, 50, 1), tf.float32, name=\"image\"),\n",
        ")\n",
        "\n",
        "model = tf.keras.models.load_model('pred_model.h5')\n",
        "# model.summary()\n",
        "onnx_model, _ = tf2onnx.convert.from_keras(model, spec)\n",
        "# print(onnx_model)\n",
        "onnx.save(onnx_model, \"pred_model.onnx\")\n",
        "# with open('pred_model.onnx', 'wb') as f:\n",
        "#     f.write(onnx_model.SerializeToString())"
      ]
    },
    {
      "cell_type": "code",
      "source": [],
      "metadata": {
        "id": "zrwqYVDOrkie"
      },
      "execution_count": null,
      "outputs": []
    }
  ],
  "metadata": {
    "accelerator": "GPU",
    "colab": {
      "gpuType": "T4",
      "provenance": []
    },
    "kernelspec": {
      "display_name": "Python 3",
      "name": "python3"
    }
  },
  "nbformat": 4,
  "nbformat_minor": 0
}